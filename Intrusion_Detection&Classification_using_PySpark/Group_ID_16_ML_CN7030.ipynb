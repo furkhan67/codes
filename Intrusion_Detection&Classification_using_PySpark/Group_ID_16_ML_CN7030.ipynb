{
 "cells": [
  {
   "cell_type": "markdown",
   "metadata": {
    "id": "Lx9-Fre4FMda"
   },
   "source": [
    "# **Intrusion Detection & Classification using PySpark**\n",
    "Dataset used:https://research.unsw.edu.au/projects/unsw-nb15-dataset\n",
    "\n",
    "---"
   ]
  },
  {
   "cell_type": "markdown",
   "metadata": {
    "id": "GdMZR-9QTwG3",
    "tags": []
   },
   "source": [
    "\n",
    "# **Initiate and Configure Spark**\n",
    "\n",
    "---\n"
   ]
  },
  {
   "cell_type": "code",
   "execution_count": null,
   "metadata": {
    "id": "_z0p88Xtw_3-"
   },
   "outputs": [],
   "source": [
    "#Load Spark Engine\n",
    "import findspark\n",
    "findspark.init()\n",
    "\n",
    "#Create Spark Session\n",
    "from pyspark.sql import SparkSession\n",
    "spark = SparkSession \\\n",
    "    .builder \\\n",
    "    .appName(\"ML Task using Spark\") \\\n",
    "    .config(\"spark.executor.memory\", \"12g\") \\\n",
    "    .config(\"spark.driver.memory\", \"12g\")\\\n",
    "    .config(\"spark.memory.offHeap.enabled\",True)\\\n",
    "    .config(\"spark.memory.offHeap.size\",\"12g\")\\\n",
    "    .getOrCreate() \n",
    "\n",
    "spark.sparkContext.setLogLevel(\"ERROR\")\n"
   ]
  },
  {
   "cell_type": "markdown",
   "metadata": {
    "id": "6P2CZVl6TOQX",
    "tags": []
   },
   "source": [
    "\n",
    "# **Load Data**\n",
    "\n",
    "---\n"
   ]
  },
  {
   "cell_type": "code",
   "execution_count": 2,
   "metadata": {},
   "outputs": [
    {
     "name": "stderr",
     "output_type": "stream",
     "text": [
      "[Stage 5:=============================>                             (4 + 4) / 8]\r"
     ]
    },
    {
     "name": "stdout",
     "output_type": "stream",
     "text": [
      "+-----+---------------+\n",
      "|Label|     attack_cat|\n",
      "+-----+---------------+\n",
      "|    1|          Worms|\n",
      "|    1|     Shellcode |\n",
      "|    1|       Analysis|\n",
      "|    1|            DoS|\n",
      "|    1|        Generic|\n",
      "|    1|       Fuzzers |\n",
      "|    1|       Exploits|\n",
      "|    0|           null|\n",
      "|    1|Reconnaissance |\n",
      "|    1|       Backdoor|\n",
      "|    1|      Shellcode|\n",
      "|    1|        Fuzzers|\n",
      "|    1|      Backdoors|\n",
      "|    1| Reconnaissance|\n",
      "+-----+---------------+\n",
      "\n"
     ]
    },
    {
     "name": "stderr",
     "output_type": "stream",
     "text": [
      "                                                                                \r"
     ]
    }
   ],
   "source": [
    "#load feature names from features detail dataset file\n",
    "features=spark.read.csv('UNSW-NB15_features.csv',inferSchema=True, header =True)\n",
    "l= list(features.select('Name').toPandas()['Name'])\n",
    "\n",
    "#load dataset\n",
    "dataset = spark.read.csv('UNSW-NB15.csv',inferSchema=True, header =False)\n",
    "\n",
    "#add previously feature names as headers\n",
    "for i in range(len(l)):\n",
    "    dataset = dataset.withColumnRenamed('_c'+str(i),l[i])\n",
    "    \n",
    "dataset.printSchema\n",
    "dataset.select('Label','attack_cat').distinct().show()"
   ]
  },
  {
   "cell_type": "markdown",
   "metadata": {
    "tags": []
   },
   "source": [
    "\n",
    "# **Data Pre-Processing**\n",
    "\n",
    "---"
   ]
  },
  {
   "cell_type": "code",
   "execution_count": 3,
   "metadata": {},
   "outputs": [
    {
     "name": "stderr",
     "output_type": "stream",
     "text": [
      "[Stage 11:>                                                         (0 + 8) / 8]\r"
     ]
    },
    {
     "name": "stdout",
     "output_type": "stream",
     "text": [
      "+-----+--------------+----------------+\n",
      "|Label|    attack_cat|attack_cat_Index|\n",
      "+-----+--------------+----------------+\n",
      "|    0|          null|             9.0|\n",
      "|    1|       Fuzzers|             2.0|\n",
      "|    1|      Backdoor|             6.0|\n",
      "|    1|Reconnaissance|             4.0|\n",
      "|    1|       Generic|             0.0|\n",
      "|    1|         Worms|             8.0|\n",
      "|    1|     Shellcode|             7.0|\n",
      "|    1|      Exploits|             1.0|\n",
      "|    1|      Analysis|             5.0|\n",
      "|    1|           DoS|             3.0|\n",
      "+-----+--------------+----------------+\n",
      "\n"
     ]
    },
    {
     "name": "stderr",
     "output_type": "stream",
     "text": [
      "                                                                                \r"
     ]
    }
   ],
   "source": [
    "import pyspark.sql.functions as F\n",
    "from pyspark.ml.feature import StringIndexer, VectorAssembler, IndexToString, VectorIndexer\n",
    "\n",
    "#as seen above, attack_cat has inconsistencies i.e \"Reconnaissance\" and \"Reconnaissance \" are both same category but due to additional space\n",
    "#it is listed as a separate category. So making this column consistent.\n",
    "from pyspark.sql.functions import when\n",
    "dataset=dataset.withColumn(\"attack_cat\",when(dataset.attack_cat=='Reconnaissance ','Reconnaissance').otherwise (dataset.attack_cat))\n",
    "dataset=dataset.withColumn(\"attack_cat\",when(dataset.attack_cat=='Fuzzers ','Fuzzers').otherwise (dataset.attack_cat))\n",
    "dataset=dataset.withColumn(\"attack_cat\",when(dataset.attack_cat=='Shellcode ','Shellcode').otherwise (dataset.attack_cat))\n",
    "dataset=dataset.withColumn(\"attack_cat\",when(dataset.attack_cat=='Backdoors','Backdoor').otherwise (dataset.attack_cat))\n",
    "\n",
    "#Indexing the string columns\n",
    "stringCols = [ \"proto\", \"state\", \"service\",'srcip','dstip','attack_cat']    \n",
    "indexoutputCols  = [x + \"_Index\" for x in stringCols]\n",
    "stringIndexer    = StringIndexer(inputCols = stringCols, outputCols = indexoutputCols, handleInvalid = 'keep')\n",
    "dataset = stringIndexer.fit(dataset).transform(dataset)\n",
    "\n",
    "dataset.select('Label','attack_cat','attack_cat_Index').distinct().show()"
   ]
  },
  {
   "cell_type": "code",
   "execution_count": 4,
   "metadata": {},
   "outputs": [
    {
     "name": "stderr",
     "output_type": "stream",
     "text": [
      "                                                                                \r"
     ]
    },
    {
     "name": "stdout",
     "output_type": "stream",
     "text": [
      "+--------------------+--------------------+\n",
      "|            features|     Scaled_features|\n",
      "+--------------------+--------------------+\n",
      "|[56716.0,143.0,0....|[2.77459021036590...|\n",
      "|[43467.0,49729.0,...|[2.12643897090723...|\n",
      "|[41289.0,9574.0,0...|[2.01988954079621...|\n",
      "|[43785.0,6881.0,2...|[2.14199577475265...|\n",
      "|[40691.0,6881.0,2...|[1.99063492224415...|\n",
      "+--------------------+--------------------+\n",
      "only showing top 5 rows\n",
      "\n"
     ]
    }
   ],
   "source": [
    "#combining all the features into one single feature vector and scaling the feature vector.\n",
    "#removing these columns from the feature vector as some of these are labels and some are already indexed from string\n",
    "cols=dataset.columns\n",
    "cols.remove(\"Label\")\n",
    "cols.remove(\"attack_cat\")\n",
    "cols.remove(\"attack_cat_Index\")\n",
    "cols.remove(\"proto\")\n",
    "cols.remove(\"state\")\n",
    "cols.remove(\"service\")\n",
    "cols.remove(\"srcip\")\n",
    "cols.remove(\"dstip\")\n",
    "\n",
    "\n",
    "#Let us import the vector assembler and combine features into a single vector called 'features'\n",
    "from pyspark.ml.feature import VectorAssembler\n",
    "assembler = VectorAssembler(inputCols=cols,outputCol=\"features\", handleInvalid=\"keep\")\n",
    "dataset=assembler.transform(dataset)\n",
    "#cols.select(\"features\").show(truncate=False)\n",
    "\n",
    "#Using Standard Scalerizer to scale the feature vector\n",
    "from pyspark.ml.feature import StandardScaler\n",
    "standardscaler=StandardScaler().setInputCol(\"features\").setOutputCol(\"Scaled_features\")\n",
    "dataset=standardscaler.fit(dataset).transform(dataset)\n",
    "dataset.select(\"features\",\"Scaled_features\").show(5)\n",
    "\n",
    "\n"
   ]
  },
  {
   "cell_type": "markdown",
   "metadata": {
    "tags": []
   },
   "source": [
    "\n",
    "# **Feature Selection**\n",
    "\n",
    "---"
   ]
  },
  {
   "cell_type": "code",
   "execution_count": 5,
   "metadata": {},
   "outputs": [
    {
     "name": "stderr",
     "output_type": "stream",
     "text": [
      "                                                                                \r"
     ]
    },
    {
     "name": "stdout",
     "output_type": "stream",
     "text": [
      "UnivariateFeatureSelector output :\n"
     ]
    },
    {
     "name": "stderr",
     "output_type": "stream",
     "text": [
      "[Stage 24:>                                                         (0 + 1) / 1]\r"
     ]
    },
    {
     "name": "stdout",
     "output_type": "stream",
     "text": [
      "+--------------------+\n",
      "| UVSselectedFeatures|\n",
      "+--------------------+\n",
      "|(20,[2,10,16],[8....|\n",
      "|(20,[2,10,16],[8....|\n",
      "|(20,[2,10,16],[8....|\n",
      "|(20,[2,10,16],[8....|\n",
      "|(20,[2,10,16],[8....|\n",
      "+--------------------+\n",
      "only showing top 5 rows\n",
      "\n"
     ]
    },
    {
     "name": "stderr",
     "output_type": "stream",
     "text": [
      "                                                                                \r"
     ]
    }
   ],
   "source": [
    " \n",
    "#Feature selection using UniVariateFeatureSelector\n",
    "from pyspark.ml.feature import UnivariateFeatureSelector\n",
    "#Feature selection for Binary Classification\n",
    "selector = UnivariateFeatureSelector(featuresCol=\"Scaled_features\", outputCol=\"UVSselectedFeatures\", labelCol=\"Label\", selectionMode=\"numTopFeatures\")\n",
    "selector.setFeatureType(\"continuous\").setLabelType(\"categorical\").setSelectionThreshold(20)\n",
    "ds = selector.fit(dataset).transform(dataset)\n",
    "\n",
    "#Train, test split\n",
    "train, test = ds.randomSplit([0.8, 0.2], seed=12345)\n",
    "\n",
    "#Feature selection for MultiClassification\n",
    "selector1 = UnivariateFeatureSelector(featuresCol=\"Scaled_features\", outputCol=\"UVSselectedFeatures1\",\\\n",
    "                                      labelCol=\"attack_cat_Index\", selectionMode=\"numTopFeatures\")\n",
    "selector1.setFeatureType(\"continuous\").setLabelType(\"categorical\").setSelectionThreshold(20)\n",
    "ds1 = selector1.fit(dataset).transform(dataset)\n",
    "\n",
    "#Train, test split\n",
    "train1, test1 = ds1.randomSplit([0.8, 0.2], seed=12345)\n",
    "\n",
    "print(\"UnivariateFeatureSelector output :\")\n",
    "test.select(\"UVSselectedFeatures\").show(5)\n"
   ]
  },
  {
   "cell_type": "code",
   "execution_count": 15,
   "metadata": {},
   "outputs": [
    {
     "name": "stderr",
     "output_type": "stream",
     "text": [
      "[Stage 53:===========================================>              (6 + 2) / 8]\r"
     ]
    },
    {
     "name": "stdout",
     "output_type": "stream",
     "text": [
      "The number of ones are : 257165\n",
      "Ratio of ones to zeroes is : 0.1265177928791094\n",
      "The number of zeroes are : 1775474.0\n",
      "BalancingRatio =  0.8734822071208906\n"
     ]
    },
    {
     "name": "stderr",
     "output_type": "stream",
     "text": [
      "                                                                                \r"
     ]
    }
   ],
   "source": [
    "#Balancing the dataset,\n",
    "dataset_size=float(train.select(\"Label\").count())\n",
    "ones=train.select(\"Label\").where('Label == 1').count()\n",
    "ratio_ones=(float(ones)/float(dataset_size))\n",
    "zeroes=float(dataset_size-ones)\n",
    "print('The number of ones are :',ones)\n",
    "print('Ratio of ones to zeroes is :',ratio_ones)\n",
    "print('The number of zeroes are :',zeroes)\n",
    "\n",
    "#As clearly seen, number of 'zeroes' are more as compared to number of 'ones' in the dataset, so we add classWeights column to our training dataset\n",
    "#Formula for Balancing Ratio:\n",
    "\n",
    "BalancingRatio= zeroes/dataset_size\n",
    "print('BalancingRatio = ',BalancingRatio)\n",
    "\n",
    "# Adding the classWeights column\n",
    "train=train.withColumn(\"classWeights\", when(train.Label == 1,BalancingRatio).otherwise(1-BalancingRatio))"
   ]
  },
  {
   "cell_type": "markdown",
   "metadata": {},
   "source": [
    "#Feature selection\n",
    "#Feature selection using VarianceThresholdSelector\n",
    "from pyspark.ml.feature import VarianceThresholdSelector\n",
    "\n",
    "selector = VarianceThresholdSelector(varianceThreshold=8.0, outputCol=\"VTSselectedFeatures\")\n",
    "\n",
    "train = selector.fit(train).transform(train)\n",
    "test = selector.fit(test).transform(test)\n",
    "\n",
    "test.select(\"VTSselectedFeatures\").show(5,truncate=False)\n",
    "\n",
    "Model Accuracy using UVS 0.9896004367116938\n",
    "FP rate [0.004160752824065205, 0.01663837375251728]\n",
    "TP rate [0.9833616262474827, 0.9958392471759349]\n",
    "\n",
    "Model Accuracy using VTS 0.9885388451670243\n",
    "FP rate [0.004215192580641759, 0.018707117085275213]\n",
    "TP rate [0.9812928829147247, 0.9957848074193583]\n",
    "\n",
    "Hence using UVS for feature selection"
   ]
  },
  {
   "cell_type": "markdown",
   "metadata": {
    "id": "wHft1Jht1Qxl"
   },
   "source": [
    "\n",
    "# **Task 1 - Binary Classifier [20 marks]**\n",
    "\n",
    "---\n"
   ]
  },
  {
   "cell_type": "code",
   "execution_count": 26,
   "metadata": {
    "id": "OcZfiIcq1Qxn"
   },
   "outputs": [
    {
     "name": "stderr",
     "output_type": "stream",
     "text": [
      "                                                                                \r"
     ]
    },
    {
     "name": "stdout",
     "output_type": "stream",
     "text": [
      "Accuracy of LR Model with UVS Feature Selection = 0.991512 \n",
      "LR Model Results:\n"
     ]
    },
    {
     "name": "stderr",
     "output_type": "stream",
     "text": [
      "[Stage 1366:>                                                       (0 + 1) / 1]\r"
     ]
    },
    {
     "name": "stdout",
     "output_type": "stream",
     "text": [
      "+-----+----------+--------------------+\n",
      "|Label|prediction|         probability|\n",
      "+-----+----------+--------------------+\n",
      "|    0|       0.0|[0.99679498724917...|\n",
      "|    0|       0.0|[0.99679498724917...|\n",
      "|    0|       0.0|[0.99679498724917...|\n",
      "|    0|       0.0|[0.99679498724917...|\n",
      "|    0|       0.0|[0.99679498724917...|\n",
      "+-----+----------+--------------------+\n",
      "only showing top 5 rows\n",
      "\n"
     ]
    },
    {
     "name": "stderr",
     "output_type": "stream",
     "text": [
      "                                                                                \r"
     ]
    }
   ],
   "source": [
    "# Machine Learning Technique, configuration, etc.:\n",
    "\n",
    "#Building a classification model using Logistic Regression (LR)\n",
    "\n",
    "#Import and define Classifier\n",
    "from pyspark.ml.classification import LogisticRegression\n",
    "lr = LogisticRegression(labelCol=\"Label\", featuresCol=\"UVSselectedFeatures\",weightCol=\"classWeights\",maxIter=10)\n",
    "\n",
    "#Import and define Evaluator\n",
    "from pyspark.ml.evaluation import BinaryClassificationEvaluator\n",
    "evaluator=BinaryClassificationEvaluator(rawPredictionCol='prediction',labelCol=\"Label\")\n",
    "\n",
    "#Using Cross-Validation to find the best set of parameters in this case we are tuning maxIter parameter\n",
    "#maxIter defines how many iterations our model ha to do before stopping\n",
    "from pyspark.ml.tuning import CrossValidator,  ParamGridBuilder\n",
    "paramGrid = (ParamGridBuilder()\n",
    "            .addGrid(lr.maxIter,[10,11,15])\n",
    "            .build())\n",
    "lrcv        = CrossValidator(estimator          = lr, \n",
    "                           evaluator          = evaluator,\n",
    "                           estimatorParamMaps = paramGrid, \n",
    "                           numFolds           = 3, \n",
    "                           parallelism        = 4, \n",
    "                           seed               = 16)\n",
    "\n",
    "#train CV Models\n",
    "lrcvModel     = lrcv.fit(train)\n",
    "\n",
    "#Predict Label on test Dataset using best CV Model\n",
    "lrpredictions = lrcvModel.transform(test)\n",
    "\n",
    "#Calculate acuracy using Area under ROC Curve for evaluation\n",
    "lraccuracy    = evaluator.evaluate(lrpredictions) \n",
    "print(\"Accuracy of LR Model with UVS Feature Selection = %g \" % (lraccuracy))\n",
    "print(\"LR Model Results:\")\n",
    "lrpredictions.select(\"Label\",\"prediction\",\"probability\").show(5)\n",
    "lrbestModel = lrcvModel.bestModel\n",
    "\n"
   ]
  },
  {
   "cell_type": "code",
   "execution_count": 28,
   "metadata": {},
   "outputs": [
    {
     "name": "stderr",
     "output_type": "stream",
     "text": [
      "[Stage 3510:=================================================>      (7 + 1) / 8]\r"
     ]
    },
    {
     "name": "stdout",
     "output_type": "stream",
     "text": [
      "Accuracy of SVM Model = 0.990165 \n"
     ]
    },
    {
     "name": "stderr",
     "output_type": "stream",
     "text": [
      "                                                                                \r"
     ]
    }
   ],
   "source": [
    "#Building a classification model using Support Vector Machine (SVM)\n",
    "\n",
    "#Import and define Classifier\n",
    "from pyspark.ml.classification import LinearSVC\n",
    "lsvc = LinearSVC(featuresCol = 'UVSselectedFeatures', labelCol = 'Label', weightCol=\"classWeights\",maxIter=10, regParam=0.1)\n",
    "\n",
    "#Import and define Evaluator\n",
    "from pyspark.ml.evaluation import BinaryClassificationEvaluator\n",
    "evaluator=BinaryClassificationEvaluator(rawPredictionCol='prediction',labelCol=\"Label\")\n",
    "\n",
    "#Using Cross-Validation to find the best set of parameters in this case we are tuning regParam parameter\n",
    "#regParam tells the SVM optimization how much you want to avoid misclassifying each training example\n",
    "from pyspark.ml.tuning import CrossValidator,  ParamGridBuilder\n",
    "paramGrid = (ParamGridBuilder()\n",
    "            .addGrid(lsvc.regParam,[0.1,0.01])\n",
    "            .build())\n",
    "\n",
    "lsvccv        = CrossValidator(estimator          = lsvc, \n",
    "                           evaluator          = evaluator,\n",
    "                           estimatorParamMaps = paramGrid, \n",
    "                           numFolds           = 3, \n",
    "                           parallelism        = 4, \n",
    "                           seed               = 16)\n",
    "\n",
    "#Train CV Models\n",
    "lsvccvModel     = lsvccv.fit(train)\n",
    "\n",
    "#Predict Label on test Dataset using best CV Model\n",
    "lsvcpredictions = lsvccvModel.transform(test)\n",
    "\n",
    "#Calculate acuracy using Area under ROC Curve for evaluation\n",
    "lsvcaccuracy    = evaluator.evaluate(lsvcpredictions)\n",
    "print(\"Accuracy of SVM Model = %g \" % (lsvcaccuracy))\n",
    "lsvcbestModel = lsvccvModel.bestModel\n",
    "\n",
    "\n",
    "# Print the coefficients and intercept for linear SVC\n",
    "#print(\"Coefficients: \" + str(lsvcModel.coefficients))\n",
    "#print(\"Intercept: \" + str(lsvcModel.intercept))"
   ]
  },
  {
   "cell_type": "code",
   "execution_count": 35,
   "metadata": {},
   "outputs": [
    {
     "name": "stderr",
     "output_type": "stream",
     "text": [
      "[Stage 4703:=================================================>      (7 + 1) / 8]\r"
     ]
    },
    {
     "name": "stdout",
     "output_type": "stream",
     "text": [
      "Accuracy of SVM Model without UVS Feature Selection = 0.990926 \n"
     ]
    },
    {
     "name": "stderr",
     "output_type": "stream",
     "text": [
      "                                                                                \r"
     ]
    }
   ],
   "source": [
    "#Building a classification model using Support Vector Machine (SVM) without using Feature Selection\n",
    "#Import and define Classifier\n",
    "from pyspark.ml.classification import LinearSVC\n",
    "lsvc2 = LinearSVC(featuresCol = 'Scaled_features', labelCol = 'Label', weightCol=\"classWeights\",maxIter=10, regParam=0.1)\n",
    "\n",
    "#Import and define Classifier\n",
    "from pyspark.ml.evaluation import BinaryClassificationEvaluator \n",
    "evaluator=BinaryClassificationEvaluator(rawPredictionCol='prediction',labelCol=\"Label\")\n",
    "\n",
    "#Using Cross-Validation to find the best set of parameters in this case we are tuning regParam parameter\n",
    "#regParam tells the SVM optimization how much you want to avoid misclassifying each training example\n",
    "from pyspark.ml.tuning import CrossValidator,  ParamGridBuilder\n",
    "from pyspark.ml.tuning import CrossValidator,  ParamGridBuilder\n",
    "paramGrid2 = (ParamGridBuilder()\n",
    "            .addGrid(lsvc2.regParam,[0.1,0.01])\n",
    "            .build())\n",
    "\n",
    "lsvccv2        = CrossValidator(estimator          = lsvc2, \n",
    "                           evaluator          = evaluator,\n",
    "                           estimatorParamMaps = paramGrid, \n",
    "                           numFolds           = 3, \n",
    "                           parallelism        = 4, \n",
    "                           seed               = 16)\n",
    "\n",
    "#Train CV Models\n",
    "lsvccvModel2     = lsvccv2.fit(train)\n",
    "\n",
    "#Predict Label on test Dataset using best CV Model\n",
    "lsvcpredictions2 = lsvccvModel2.transform(test)\n",
    "\n",
    "#Calculate accuracy of Model on Test data using Area under ROC Curve for evaluation\n",
    "lsvcaccuracy2    = evaluator.evaluate(lsvcpredictions2)\n",
    "print(\"Accuracy of SVM Model without UVS Feature Selection = %g \" % (lsvcaccuracy2))\n",
    "lsvc2bestModel = lsvccvModel2.bestModel"
   ]
  },
  {
   "cell_type": "markdown",
   "metadata": {},
   "source": [
    "#LR Model without using Feature Selection\n",
    "lr2 = LogisticRegression(labelCol=\"Label\", featuresCol=\"Scaled_features\",weightCol=\"classWeights\",maxIter=10)\n",
    "\n",
    "paramGrid2 = (ParamGridBuilder()\n",
    "            .addGrid(lr2.maxIter,[10,11,15])\n",
    "            .build())\n",
    "\n",
    "lr2cv        = CrossValidator(estimator          = lr2, \n",
    "                           evaluator          = evaluator,\n",
    "                           estimatorParamMaps = paramGrid2, \n",
    "                           numFolds           = 3, \n",
    "                           parallelism        = 4, \n",
    "                           seed               = 16)\n",
    "\n",
    "\n",
    "lr2cvModel     = lr2cv.fit(train)\n",
    "lr2predictions = lr2cvModel.transform(test)\n",
    "lr2accuracy    = evaluator.evaluate(lr2predictions) #using Area under ROC Curve for evaluation\n",
    "\n",
    "print(\"Accuracy of LR Model without UVS Feature Selection = %g \" % (lr2accuracy))"
   ]
  },
  {
   "cell_type": "markdown",
   "metadata": {},
   "source": [
    "#Building a classification model using Decision Tree (DT), accuracy is worse than both LR and SVM\n",
    "\n",
    "from pyspark.ml.classification import DecisionTreeClassifier\n",
    "dt = DecisionTreeClassifier(featuresCol = 'UVSselectedFeatures', labelCol = 'Label', maxDepth = 5)\n",
    "\n",
    "from pyspark.ml.tuning import CrossValidator,  ParamGridBuilder\n",
    "paramGrid = (ParamGridBuilder()\n",
    "            .addGrid(dt.maxDepth,[2,12])\n",
    "            .build())\n",
    "\n",
    "dtcv        = CrossValidator(estimator          = dt, \n",
    "                           evaluator          = evaluator,\n",
    "                           estimatorParamMaps = paramGrid, \n",
    "                           numFolds           = 3, \n",
    "                           parallelism        = 4, \n",
    "                           seed               = 16)\n",
    "\n",
    "dtcvModel     = dtcv.fit(train)\n",
    "dtpredictions = dtcvModel.transform(test)\n",
    "dtaccuracy    = evaluator.evaluate(dtpredictions)\n",
    "print(\"Accuracy of Decision Tree Model = %g \" % (dtaccuracy))\n",
    "#dtbestModel = dtcvModel.bestModel\n",
    "print(\"DT Model Results:\")\n",
    "predict_test.select(\"Label\",\"prediction\",\"probability\").show(5)\n"
   ]
  },
  {
   "cell_type": "markdown",
   "metadata": {
    "id": "IRGHM3rOsKvU"
   },
   "source": [
    "\n",
    "# **Task 2 - Multi Classifier [25 marks]**\n",
    "\n",
    "---\n"
   ]
  },
  {
   "cell_type": "code",
   "execution_count": 6,
   "metadata": {
    "id": "6oAJuyTBsRO-"
   },
   "outputs": [
    {
     "name": "stderr",
     "output_type": "stream",
     "text": [
      "                                                                                \r"
     ]
    },
    {
     "name": "stdout",
     "output_type": "stream",
     "text": [
      "Accuracy of Decision Tree Model = 0.977426 \n",
      "DT Model Results:\n"
     ]
    },
    {
     "name": "stderr",
     "output_type": "stream",
     "text": [
      "[Stage 175:>                                                        (0 + 1) / 1]\r"
     ]
    },
    {
     "name": "stdout",
     "output_type": "stream",
     "text": [
      "+----------------+----------+--------------------+\n",
      "|attack_cat_Index|prediction|         probability|\n",
      "+----------------+----------+--------------------+\n",
      "|             9.0|       9.0|[0.0,0.0,0.0,0.0,...|\n",
      "|             9.0|       9.0|[0.0,0.0,0.0,0.0,...|\n",
      "|             9.0|       9.0|[0.0,0.0,0.0,0.0,...|\n",
      "|             9.0|       9.0|[0.0,0.0,0.0,0.0,...|\n",
      "|             9.0|       9.0|[0.0,0.0,0.0,0.0,...|\n",
      "+----------------+----------+--------------------+\n",
      "only showing top 5 rows\n",
      "\n"
     ]
    },
    {
     "name": "stderr",
     "output_type": "stream",
     "text": [
      "                                                                                \r"
     ]
    }
   ],
   "source": [
    "# Machine Learning Technique, configuration, etc.:\n",
    "#Building a multiclassification model using Decision Tree (DT)\n",
    "\n",
    "#Import and define Classifier\n",
    "from pyspark.ml.classification import DecisionTreeClassifier\n",
    "dt = DecisionTreeClassifier(featuresCol = 'UVSselectedFeatures1', labelCol = 'attack_cat_Index', maxDepth = 5)\n",
    "\n",
    "#Import and define Evaluator\n",
    "from pyspark.ml.evaluation import MulticlassClassificationEvaluator\n",
    "evaluator1 = MulticlassClassificationEvaluator(labelCol=\"attack_cat_Index\", predictionCol=\"prediction\")\n",
    "\n",
    "#Using Cross-Validation to find the best set of parameters in this case we are tuning maxDepth and numTrees parameter\n",
    "#maxDepth defines maximum depth of each tree\n",
    "\n",
    "from pyspark.ml.tuning import CrossValidator,  ParamGridBuilder\n",
    "paramGrid = (ParamGridBuilder()\n",
    "            .addGrid(dt.maxDepth,[2,12])\n",
    "            .build())\n",
    "\n",
    "dtcv        = CrossValidator(estimator          = dt, \n",
    "                           evaluator          = evaluator1,\n",
    "                           estimatorParamMaps = paramGrid, \n",
    "                           numFolds           = 3, \n",
    "                           parallelism        = 4, \n",
    "                           seed               = 16)\n",
    "\n",
    "#Train CV Models\n",
    "dtcvModel     = dtcv.fit(train1)\n",
    "\n",
    "#Predict Label on test Dataset using best CV Model\n",
    "dtpredictions = dtcvModel.transform(test1)\n",
    "dtbestModel = dtcvModel.bestModel\n",
    "\n",
    "#Calculate Accuracy of Model on Test Data using f1 score\n",
    "dtaccuracy    = evaluator1.evaluate(dtpredictions,{evaluator1.metricName: 'f1'})\n",
    "print(\"Accuracy of Decision Tree Model = %g \" % (dtaccuracy))\n",
    "\n",
    "print(\"DT Model Results:\")\n",
    "dtpredictions.select(\"attack_cat_Index\",\"prediction\",\"probability\").show(5)\n"
   ]
  },
  {
   "cell_type": "code",
   "execution_count": 7,
   "metadata": {},
   "outputs": [
    {
     "name": "stderr",
     "output_type": "stream",
     "text": [
      "                                                                                \r"
     ]
    },
    {
     "name": "stdout",
     "output_type": "stream",
     "text": [
      "Accuracy of Random Forest Model = 0.968888 \n",
      "RF Model Results:\n"
     ]
    },
    {
     "name": "stderr",
     "output_type": "stream",
     "text": [
      "[Stage 1490:>                                                       (0 + 1) / 1]\r"
     ]
    },
    {
     "name": "stdout",
     "output_type": "stream",
     "text": [
      "+----------------+----------+--------------------+\n",
      "|attack_cat_Index|prediction|         probability|\n",
      "+----------------+----------+--------------------+\n",
      "|             9.0|       9.0|[0.00127176428601...|\n",
      "|             9.0|       9.0|[0.00127176428601...|\n",
      "|             9.0|       9.0|[0.00127176428601...|\n",
      "|             9.0|       9.0|[0.00127176428601...|\n",
      "|             9.0|       9.0|[0.00127176428601...|\n",
      "+----------------+----------+--------------------+\n",
      "only showing top 5 rows\n",
      "\n"
     ]
    },
    {
     "name": "stderr",
     "output_type": "stream",
     "text": [
      "                                                                                \r"
     ]
    }
   ],
   "source": [
    "# MultiClassification using RandomForest classifier \n",
    "\n",
    "#Import and define Classifier\n",
    "from pyspark.ml.classification import RandomForestClassifier\n",
    "rf = RandomForestClassifier(featuresCol = 'UVSselectedFeatures1', labelCol = 'attack_cat_Index', featureSubsetStrategy=\"auto\")\n",
    "\n",
    "#Import and define Evaluator\n",
    "from pyspark.ml.evaluation import MulticlassClassificationEvaluator\n",
    "evaluator1 = MulticlassClassificationEvaluator(labelCol=\"attack_cat_Index\", predictionCol=\"prediction\")\n",
    "\n",
    "#Using Cross-Validation to find the best set of parameters in this case we are tuning maxDepth and numTrees parameter\n",
    "#maxDepth defines maximum depth of each tree; numTrees defines number of trees to make in the forest\n",
    "from pyspark.ml.tuning import CrossValidator,  ParamGridBuilder\n",
    "paramGrid = (ParamGridBuilder()\n",
    "            .addGrid(rf.maxDepth,[4,5,6])\n",
    "            .addGrid(rf.numTrees,[3,5,10])\n",
    "            .addGrid(rf.maxBins,[15,20,32]) \n",
    "            .build())\n",
    "\n",
    "rfcv        = CrossValidator(estimator          = rf, \n",
    "                           evaluator          = evaluator1,\n",
    "                           estimatorParamMaps = paramGrid, \n",
    "                           numFolds           = 3, \n",
    "                           parallelism        = 4, \n",
    "                           seed               = 16)\n",
    "\n",
    "#Train CV Models\n",
    "rfcvModel     = rfcv.fit(train1)\n",
    "rfcvbestModel = rfcvModel.bestModel\n",
    "\n",
    "#Predict Label on test Dataset using best CV Model\n",
    "rfpredictions = rfcvModel.transform(test1)\n",
    "\n",
    "#Calculate Accuracy of Model on Test Data using f1 score\n",
    "rfaccuracy    = evaluator1.evaluate(rfpredictions,{evaluator1.metricName: 'f1'})\n",
    "print(\"Accuracy of Random Forest Model = %g \" % (rfaccuracy))\n",
    "\n",
    "print(\"RF Model Results:\")\n",
    "rfpredictions.select(\"attack_cat_Index\",\"prediction\",\"probability\").show(5)"
   ]
  },
  {
   "cell_type": "code",
   "execution_count": 8,
   "metadata": {},
   "outputs": [
    {
     "name": "stderr",
     "output_type": "stream",
     "text": [
      "                                                                                \r"
     ]
    },
    {
     "name": "stdout",
     "output_type": "stream",
     "text": [
      "Accuracy of Logistic Regression Model = 0.943906 \n",
      "LR Model Results:\n"
     ]
    },
    {
     "name": "stderr",
     "output_type": "stream",
     "text": [
      "[Stage 3193:>                                                       (0 + 1) / 1]\r"
     ]
    },
    {
     "name": "stdout",
     "output_type": "stream",
     "text": [
      "+----------------+----------+\n",
      "|attack_cat_Index|prediction|\n",
      "+----------------+----------+\n",
      "|             9.0|       9.0|\n",
      "|             9.0|       9.0|\n",
      "|             9.0|       9.0|\n",
      "|             9.0|       9.0|\n",
      "|             9.0|       9.0|\n",
      "+----------------+----------+\n",
      "only showing top 5 rows\n",
      "\n"
     ]
    },
    {
     "name": "stderr",
     "output_type": "stream",
     "text": [
      "                                                                                \r"
     ]
    }
   ],
   "source": [
    "# MultiClassification using logistic Regression\n",
    "\n",
    "#Import and define Classifier\n",
    "from pyspark.ml.classification import OneVsRest, LogisticRegression\n",
    "lr1 = LogisticRegression(maxIter=100,featuresCol=\"UVSselectedFeatures1\", labelCol='attack_cat_Index')\n",
    "ovr = OneVsRest(classifier=lr1,labelCol='attack_cat_Index', featuresCol='UVSselectedFeatures1')\n",
    "\n",
    "#Import and define Evaluator\n",
    "from pyspark.ml.evaluation import MulticlassClassificationEvaluator\n",
    "evaluator1 = MulticlassClassificationEvaluator(labelCol=\"attack_cat_Index\", predictionCol=\"prediction\")\n",
    "\n",
    "\n",
    "#Using Cross-Validation to find the best set of parameters in this case we are tuning maxIter parameter\n",
    "#maxIter defines how many iterations our model ha to do before stopping\n",
    "from pyspark.ml.tuning import CrossValidator,  ParamGridBuilder\n",
    "paramGrid = (ParamGridBuilder()\n",
    "            .addGrid(lr1.maxIter,[4,5,6])\n",
    "            .build())\n",
    "\n",
    "lr1cv        = CrossValidator(estimator          = ovr, \n",
    "                           evaluator          = evaluator1,\n",
    "                           estimatorParamMaps = paramGrid, \n",
    "                           numFolds           = 3, \n",
    "                           parallelism        = 4, \n",
    "                           seed               = 16)\n",
    "\n",
    "#Train CV Models\n",
    "lr1cvModel     = lr1cv.fit(train1)\n",
    "lr1cvbestModel = lr1cvModel.bestModel\n",
    "\n",
    "#Predict Label on test Dataset using best CV Model\n",
    "lr1predictions = lr1cvbestModel.transform(test1)\n",
    "\n",
    "#Calculate Accuracy of Model on Test Data using f1 score\n",
    "lr1accuracy    = evaluator1.evaluate(lr1predictions,{evaluator1.metricName: 'f1'})\n",
    "print(\"Accuracy of Logistic Regression Model = %g \" % (lr1accuracy))\n",
    "\n",
    "print(\"LR Model Results:\")\n",
    "lr1predictions.select(\"attack_cat_Index\",\"prediction\",).show(5)"
   ]
  },
  {
   "cell_type": "markdown",
   "metadata": {
    "id": "7B_jAqyMsSsl"
   },
   "source": [
    "\n",
    "# **Task 3 - Performance Measurements [15 marks]**\n",
    "\n",
    "---\n"
   ]
  },
  {
   "cell_type": "code",
   "execution_count": 36,
   "metadata": {},
   "outputs": [
    {
     "data": {
      "image/png": "[encoded data removed]",
      "text/plain": [
       "<Figure size 432x288 with 1 Axes>"
      ]
     },
     "metadata": {
      "needs_background": "light"
     },
     "output_type": "display_data"
    },
    {
     "name": "stderr",
     "output_type": "stream",
     "text": [
      "/home/furkhan67/.local/lib/python3.8/site-packages/pyspark/sql/context.py:125: FutureWarning: Deprecated in 3.0.0. Use SparkSession.builder.getOrCreate() instead.\n",
      "  warnings.warn(\n"
     ]
    },
    {
     "name": "stdout",
     "output_type": "stream",
     "text": [
      "Model Accuracy using LR 0.9911654782611465\n",
      "FP rate [0.003406373340075809, 0.014262670137605028]\n",
      "TP rate [0.9857373298623949, 0.9965936266599241]\n"
     ]
    },
    {
     "data": {
      "image/png": "[encoded data removed]",
      "text/plain": [
       "<Figure size 432x288 with 1 Axes>"
      ]
     },
     "metadata": {
      "needs_background": "light"
     },
     "output_type": "display_data"
    },
    {
     "name": "stdout",
     "output_type": "stream",
     "text": [
      "Model Accuracy using SVM 0.9899667953996172\n",
      "FP rate [0.0017265179942850014, 0.018339891206440966]\n",
      "TP rate [0.981660108793559, 0.998273482005715]\n"
     ]
    },
    {
     "name": "stderr",
     "output_type": "stream",
     "text": [
      "/home/furkhan67/.local/lib/python3.8/site-packages/pyspark/sql/context.py:125: FutureWarning: Deprecated in 3.0.0. Use SparkSession.builder.getOrCreate() instead.\n",
      "  warnings.warn(\n"
     ]
    },
    {
     "data": {
      "image/png": "[encoded data removed]",
      "text/plain": [
       "<Figure size 432x288 with 1 Axes>"
      ]
     },
     "metadata": {
      "needs_background": "light"
     },
     "output_type": "display_data"
    }
   ],
   "source": [
    "#Binary Classification Performance Measurements\n",
    "\n",
    "import matplotlib.pyplot as plt\n",
    "import math\n",
    "fig = plt.figure()\n",
    "ax = fig.add_axes([0,0,1,1])\n",
    "models = ['LR Model with\\n Feature Selection','SVM Model with\\n Feature Selection',\\\n",
    "          'LR Model without\\n Feature Selection', 'SVM Model without\\n Feature Selection']\n",
    "y = [lraccuracy, lsvcaccuracy, lr2accuracy, lsvcaccuracy2]\n",
    "plt.ylim([0.98,0.9925])\n",
    "ax.bar(models,y)\n",
    "plt.suptitle('Comparing Accuracy of Models')\n",
    "plt.show()\n",
    "\n",
    "\n",
    "#LR Model Results \n",
    "import matplotlib.pyplot as plt\n",
    "pr = lrbestModel.summary.pr.toPandas()\n",
    "plt.plot(pr['recall'],pr['precision'])\n",
    "plt.ylabel('Precision')\n",
    "plt.xlabel('Recall')\n",
    "plt.suptitle('P-R Curve for Logistic Regression Model')\n",
    "\n",
    "print(\"Model Accuracy using LR\",lrbestModel.summary.accuracy)\n",
    "print(\"FP rate\",lrbestModel.summary.falsePositiveRateByLabel)\n",
    "print(\"TP rate\",lrbestModel.summary.truePositiveRateByLabel)\n",
    "plt.show()\n",
    "\n",
    "#SVM Model Results \n",
    "import matplotlib.pyplot as plt\n",
    "pr = lsvccvModel.bestModel.summary().pr.toPandas()\n",
    "plt.plot(pr['recall'],pr['precision'])\n",
    "plt.ylabel('Precision')\n",
    "plt.xlabel('Recall')\n",
    "plt.suptitle('P-R Curve for SVM Model')\n",
    "\n",
    "print(\"Model Accuracy using SVM\",lsvccvModel.bestModel.summary().accuracy)\n",
    "print(\"FP rate\",lsvccvModel.bestModel.summary().falsePositiveRateByLabel)\n",
    "print(\"TP rate\",lsvccvModel.bestModel.summary().truePositiveRateByLabel)\n",
    "plt.show()"
   ]
  },
  {
   "cell_type": "code",
   "execution_count": 11,
   "metadata": {},
   "outputs": [
    {
     "data": {
      "image/png": "[encoded data removed]",
      "text/plain": [
       "<Figure size 432x288 with 1 Axes>"
      ]
     },
     "metadata": {
      "needs_background": "light"
     },
     "output_type": "display_data"
    }
   ],
   "source": [
    "#Multi Classification Performance Measurements\n",
    "#Plotting bar chart of accuracies of the models\n",
    "import matplotlib.pyplot as plt\n",
    "import math\n",
    "fig = plt.figure()\n",
    "ax = fig.add_axes([0,0,1,1])\n",
    "models = ['LR Model','Decision Tree Model','Random Forest Model']\n",
    "y = [lr1accuracy, dtaccuracy, rfaccuracy]\n",
    "plt.ylim([0.9,0.9925])\n",
    "ax.bar(models,y)\n",
    "plt.suptitle('Comparing Accuracy of Models')\n",
    "plt.show()\n"
   ]
  },
  {
   "cell_type": "code",
   "execution_count": 10,
   "metadata": {},
   "outputs": [
    {
     "name": "stderr",
     "output_type": "stream",
     "text": [
      "                                                                                \r"
     ]
    },
    {
     "data": {
      "image/png": "[encoded data removed]",
      "text/plain": [
       "<Figure size 720x216 with 1 Axes>"
      ]
     },
     "metadata": {
      "needs_background": "light"
     },
     "output_type": "display_data"
    }
   ],
   "source": [
    "#Calculating Weighted Precision and Recall for each model\n",
    "\n",
    "lr1Precision = evaluator1.evaluate(lr1predictions, {evaluator1.metricName: \"weightedPrecision\"})\n",
    "lr1Recall = evaluator1.evaluate(lr1predictions, {evaluator1.metricName: \"weightedRecall\"})\n",
    "\n",
    "dtPrecision = evaluator1.evaluate(dtpredictions, {evaluator1.metricName: \"weightedPrecision\"})\n",
    "dtRecall = evaluator1.evaluate(dtpredictions, {evaluator1.metricName: \"weightedRecall\"})\n",
    "\n",
    "rfPrecision = evaluator1.evaluate(rfpredictions, {evaluator1.metricName: \"weightedPrecision\"})\n",
    "rfRecall = evaluator1.evaluate(rfpredictions, {evaluator1.metricName: \"weightedRecall\"})\n",
    "p=[lr1Precision,rfPrecision,dtPrecision]\n",
    "r=[lr1Recall,rfRecall,dtRecall]\n",
    "\n",
    "#Plotting bar chart of Weighted Precision and Recall for each model\n",
    "import numpy as np\n",
    "import matplotlib.pyplot as plt\n",
    "\n",
    "X = np.arange(3)\n",
    "fig = plt.figure(figsize=(10, 3))\n",
    "models = ['LR Model','Decision Tree Model','Random Forest Model']\n",
    "ax = fig.add_axes([0,0,1,1])\n",
    "ax.set_title('Precision & Recall for each Model')\n",
    "ax.set_xticks(X, models)\n",
    "plt.ylim([0.9,0.9925])\n",
    "ax.bar(X + 0, p, color = 'red', width = 0.3, align='center')\n",
    "ax.bar(X + 0.3, r, color = 'yellow', width = 0.3)\n",
    "plt.legend(['Precision','Recall'])\n",
    "plt.show()\n"
   ]
  },
  {
   "attachments": {
    "4e461ea3-6f54-444e-90d5-3545558fc306.png": {
     "image/png": "[encoded data removed]"
    }
   },
   "cell_type": "markdown",
   "metadata": {},
   "source": [
    "#Calculating Precision, Recall for each class in label\n",
    "x=list(train1.select('attack_cat_Index','attack_cat').distinct().sort('attack_cat_Index').toPandas()['attack_cat'])\n",
    "x[-1]=\"Null\"\n",
    "p1={}\n",
    "r1={}\n",
    "\n",
    "for i in range(len(x)):\n",
    "    p1[x[i]]= evaluator1.evaluate(lr1predictions, {evaluator1.metricName: \"precisionByLabel\", evaluator1.metricLabel: i})\n",
    "    \n",
    "for i in range(len(x)):\n",
    "    r1[x[i]]= evaluator1.evaluate(lr1predictions, {evaluator1.metricName: \"recallByLabel\", evaluator1.metricLabel: i})\n",
    "    \n",
    "#Plotting Precision,Recall\n",
    "import numpy as np\n",
    "import matplotlib.pyplot as plt\n",
    "X = np.arange(10)\n",
    "fig = plt.figure(figsize=(10, 3))\n",
    "\n",
    "\n",
    "ax = fig.add_axes([0,0,1,1])\n",
    "ax.set_title('Precision & Recall by Label for LR Model')\n",
    "ax.set_xticks(X, x)\n",
    "fig.autofmt_xdate()\n",
    "\n",
    "\n",
    "ax.bar(X + 0, list(p1.values()), color = 'red', width = 0.3, align='center')\n",
    "ax.bar(X + 0.3, list(r1.values()), color = 'yellow', width = 0.3)\n",
    "plt.legend(['Precision','Recall'])\n",
    "plt.show()\n",
    "\n",
    "![image.png](attachment:4e461ea3-6f54-444e-90d5-3545558fc306.png)\n"
   ]
  }
 ],
 "metadata": {
  "colab": {
   "collapsed_sections": [
    "Lx9-Fre4FMda"
   ],
   "name": "Your_Group_ID_ML_CN7030.ipynb",
   "provenance": []
  },
  "kernelspec": {
   "display_name": "Python 3.8.5 64-bit",
   "language": "python",
   "name": "python3"
  },
  "language_info": {
   "codemirror_mode": {
    "name": "ipython",
    "version": 3
   },
   "file_extension": ".py",
   "mimetype": "text/x-python",
   "name": "python",
   "nbconvert_exporter": "python",
   "pygments_lexer": "ipython3",
   "version": "3.8.5"
  },
  "vscode": {
   "interpreter": {
    "hash": "e1e50afc35c5bf48b6480db009e29dffe9b3dc8b7d11ef5d69051a76ab35e225"
   }
  }
 },
 "nbformat": 4,
 "nbformat_minor": 4
}
