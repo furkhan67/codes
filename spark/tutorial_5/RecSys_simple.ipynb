{
 "cells": [
  {
   "cell_type": "code",
   "execution_count": 19,
   "metadata": {
    "colab": {
     "base_uri": "https://localhost:8080/"
    },
    "executionInfo": {
     "elapsed": 12538,
     "status": "ok",
     "timestamp": 1612856547275,
     "user": {
      "displayName": "Dr MAG",
      "photoUrl": "https://lh3.googleusercontent.com/a-/AOh14GhwThKdoh_zvfhd2qaP-QfTxA3sj7jxstHDtb6RLw=s64",
      "userId": "10163411640105691678"
     },
     "user_tz": 0
    },
    "id": "jX_wzRmxcnDm",
    "outputId": "0d1dd6dd-d5cb-4204-8760-6dba6c60208b"
   },
   "outputs": [
    {
     "name": "stdout",
     "output_type": "stream",
     "text": [
      "Requirement already satisfied: findspark in /usr/local/lib/python3.6/dist-packages (1.4.2)\n"
     ]
    }
   ],
   "source": [
    "#################################################################################\n",
    "# In this program, we shall be developing a movie Rec System\n",
    "#################################################################################\n",
    "\n",
    "'''\n",
    "# innstall java\n",
    "!apt-get install openjdk-8-jdk-headless -qq > /dev/null\n",
    "\n",
    "# install spark (change the version number if needed)\n",
    "!wget -q https://archive.apache.org/dist/spark/spark-3.0.0/spark-3.0.0-bin-hadoop3.2.tgz\n",
    "\n",
    "# unzip the spark file to the current folder\n",
    "!tar xf spark-3.0.0-bin-hadoop3.2.tgz\n",
    "\n",
    "# set your spark folder to your system path environment. \n",
    "import os\n",
    "os.environ[\"JAVA_HOME\"] = \"/usr/lib/jvm/java-8-openjdk-amd64\"\n",
    "os.environ[\"SPARK_HOME\"] = \"/content/spark-3.0.0-bin-hadoop3.2\"\n",
    "\n",
    "!pip install findspark\n",
    "\n",
    "import findspark\n",
    "findspark.init()\n",
    "\n",
    "from pyspark.sql import SparkSession\n",
    "spark = SparkSession.builder.master(\"local[*]\").getOrCreate()\n",
    "#spark = SparkSession.builder.master(\"local[4]\")  # this creates spark session to  run locally, the braket[] means number of cores \n",
    "'''\n"
   ]
  },
  {
   "cell_type": "code",
   "execution_count": 1,
   "metadata": {},
   "outputs": [],
   "source": [
    "# set your spark folder to your system path environment. \n",
    "import os\n",
    "os.environ[\"JAVA_HOME\"] = \"/usr/lib/jvm/java-8-openjdk-amd64\""
   ]
  },
  {
   "cell_type": "code",
   "execution_count": null,
   "metadata": {},
   "outputs": [],
   "source": []
  },
  {
   "cell_type": "code",
   "execution_count": 1,
   "metadata": {
    "executionInfo": {
     "elapsed": 1138,
     "status": "ok",
     "timestamp": 1612856560957,
     "user": {
      "displayName": "Dr MAG",
      "photoUrl": "https://lh3.googleusercontent.com/a-/AOh14GhwThKdoh_zvfhd2qaP-QfTxA3sj7jxstHDtb6RLw=s64",
      "userId": "10163411640105691678"
     },
     "user_tz": 0
    },
    "id": "gDjiITKMc9OO"
   },
   "outputs": [],
   "source": [
    "\n",
    "from pyspark.sql import SparkSession\n",
    "\n",
    "spark = SparkSession \\\n",
    "    .builder \\\n",
    "    .appName(\"Rec System\") \\\n",
    "    .config(\"spark.some.config.option\", \"some-value\") \\\n",
    "    .getOrCreate()"
   ]
  },
  {
   "cell_type": "code",
   "execution_count": 21,
   "metadata": {
    "colab": {
     "base_uri": "https://localhost:8080/"
    },
    "executionInfo": {
     "elapsed": 1139,
     "status": "ok",
     "timestamp": 1612856574668,
     "user": {
      "displayName": "Dr MAG",
      "photoUrl": "https://lh3.googleusercontent.com/a-/AOh14GhwThKdoh_zvfhd2qaP-QfTxA3sj7jxstHDtb6RLw=s64",
      "userId": "10163411640105691678"
     },
     "user_tz": 0
    },
    "id": "DEG3njD4dADJ",
    "outputId": "84ccd573-cf83-4f9c-d814-309d0b4a36ab"
   },
   "outputs": [
    {
     "name": "stdout",
     "output_type": "stream",
     "text": [
      "Drive already mounted at /content/drive; to attempt to forcibly remount, call drive.mount(\"/content/drive\", force_remount=True).\n"
     ]
    }
   ],
   "source": [
    "from google.colab import drive\n",
    "drive.mount('/content/drive')"
   ]
  },
  {
   "cell_type": "code",
   "execution_count": 2,
   "metadata": {
    "executionInfo": {
     "elapsed": 1182,
     "status": "ok",
     "timestamp": 1612856615924,
     "user": {
      "displayName": "Dr MAG",
      "photoUrl": "https://lh3.googleusercontent.com/a-/AOh14GhwThKdoh_zvfhd2qaP-QfTxA3sj7jxstHDtb6RLw=s64",
      "userId": "10163411640105691678"
     },
     "user_tz": 0
    },
    "id": "QqzSm2XZdHrA"
   },
   "outputs": [],
   "source": [
    "movies = spark.read.csv(\"movies.csv\",header=True)\n",
    "ratings = spark.read.csv(\"ratings.csv\",header=True)"
   ]
  },
  {
   "cell_type": "code",
   "execution_count": 3,
   "metadata": {
    "colab": {
     "base_uri": "https://localhost:8080/"
    },
    "executionInfo": {
     "elapsed": 1135,
     "status": "ok",
     "timestamp": 1612856713199,
     "user": {
      "displayName": "Dr MAG",
      "photoUrl": "https://lh3.googleusercontent.com/a-/AOh14GhwThKdoh_zvfhd2qaP-QfTxA3sj7jxstHDtb6RLw=s64",
      "userId": "10163411640105691678"
     },
     "user_tz": 0
    },
    "id": "sLTFPTgKdmLF",
    "outputId": "2278f197-3138-4815-dfa8-0e3fa5590124"
   },
   "outputs": [
    {
     "name": "stdout",
     "output_type": "stream",
     "text": [
      "+------+-------+------+---------+\n",
      "|userId|movieId|rating|timestamp|\n",
      "+------+-------+------+---------+\n",
      "|     1|      1|   4.0|964982703|\n",
      "|     1|      3|   4.0|964981247|\n",
      "|     1|      6|   4.0|964982224|\n",
      "|     1|     47|   5.0|964983815|\n",
      "|     1|     50|   5.0|964982931|\n",
      "|     1|     70|   3.0|964982400|\n",
      "|     1|    101|   5.0|964980868|\n",
      "|     1|    110|   4.0|964982176|\n",
      "|     1|    151|   5.0|964984041|\n",
      "|     1|    157|   5.0|964984100|\n",
      "|     1|    163|   5.0|964983650|\n",
      "|     1|    216|   5.0|964981208|\n",
      "|     1|    223|   3.0|964980985|\n",
      "|     1|    231|   5.0|964981179|\n",
      "|     1|    235|   4.0|964980908|\n",
      "|     1|    260|   5.0|964981680|\n",
      "|     1|    296|   3.0|964982967|\n",
      "|     1|    316|   3.0|964982310|\n",
      "|     1|    333|   5.0|964981179|\n",
      "|     1|    349|   4.0|964982563|\n",
      "+------+-------+------+---------+\n",
      "only showing top 20 rows\n",
      "\n"
     ]
    }
   ],
   "source": [
    "ratings.show()\n"
   ]
  },
  {
   "cell_type": "code",
   "execution_count": 10,
   "metadata": {
    "colab": {
     "base_uri": "https://localhost:8080/"
    },
    "executionInfo": {
     "elapsed": 1245,
     "status": "ok",
     "timestamp": 1612856723456,
     "user": {
      "displayName": "Dr MAG",
      "photoUrl": "https://lh3.googleusercontent.com/a-/AOh14GhwThKdoh_zvfhd2qaP-QfTxA3sj7jxstHDtb6RLw=s64",
      "userId": "10163411640105691678"
     },
     "user_tz": 0
    },
    "id": "ULBZg1ThdqnB",
    "outputId": "faa930a7-1587-468e-a276-8fa23d6fc15a"
   },
   "outputs": [
    {
     "name": "stdout",
     "output_type": "stream",
     "text": [
      "root\n",
      " |-- userId: string (nullable = true)\n",
      " |-- movieId: string (nullable = true)\n",
      " |-- rating: string (nullable = true)\n",
      " |-- timestamp: string (nullable = true)\n",
      "\n"
     ]
    }
   ],
   "source": [
    "\n",
    "ratings.printSchema()"
   ]
  },
  {
   "cell_type": "code",
   "execution_count": 4,
   "metadata": {
    "colab": {
     "base_uri": "https://localhost:8080/"
    },
    "executionInfo": {
     "elapsed": 1201,
     "status": "ok",
     "timestamp": 1612856754097,
     "user": {
      "displayName": "Dr MAG",
      "photoUrl": "https://lh3.googleusercontent.com/a-/AOh14GhwThKdoh_zvfhd2qaP-QfTxA3sj7jxstHDtb6RLw=s64",
      "userId": "10163411640105691678"
     },
     "user_tz": 0
    },
    "id": "SAIK6_mkdxjE",
    "outputId": "de029411-2b2c-4bf4-d96f-9d74f847211d"
   },
   "outputs": [
    {
     "name": "stdout",
     "output_type": "stream",
     "text": [
      "+------+-------+------+\n",
      "|userId|movieId|rating|\n",
      "+------+-------+------+\n",
      "|     1|      1|   4.0|\n",
      "|     1|      3|   4.0|\n",
      "|     1|      6|   4.0|\n",
      "|     1|     47|   5.0|\n",
      "|     1|     50|   5.0|\n",
      "|     1|     70|   3.0|\n",
      "|     1|    101|   5.0|\n",
      "|     1|    110|   4.0|\n",
      "|     1|    151|   5.0|\n",
      "|     1|    157|   5.0|\n",
      "|     1|    163|   5.0|\n",
      "|     1|    216|   5.0|\n",
      "|     1|    223|   3.0|\n",
      "|     1|    231|   5.0|\n",
      "|     1|    235|   4.0|\n",
      "|     1|    260|   5.0|\n",
      "|     1|    296|   3.0|\n",
      "|     1|    316|   3.0|\n",
      "|     1|    333|   5.0|\n",
      "|     1|    349|   4.0|\n",
      "+------+-------+------+\n",
      "only showing top 20 rows\n",
      "\n"
     ]
    }
   ],
   "source": [
    "#formatting our rating df\n",
    "\n",
    "from pyspark.sql import functions as F\n",
    "\n",
    "ratings = ratings.\\\n",
    "    withColumn('userId', F.col('userId').cast('integer')).\\\n",
    "    withColumn('movieId', F.col('movieId').cast('integer')).\\\n",
    "    withColumn('rating', F.col('rating').cast('float')).\\\n",
    "    drop('timestamp')\n",
    "ratings.show()"
   ]
  },
  {
   "cell_type": "code",
   "execution_count": 5,
   "metadata": {
    "colab": {
     "base_uri": "https://localhost:8080/"
    },
    "executionInfo": {
     "elapsed": 4135,
     "status": "ok",
     "timestamp": 1612856774965,
     "user": {
      "displayName": "Dr MAG",
      "photoUrl": "https://lh3.googleusercontent.com/a-/AOh14GhwThKdoh_zvfhd2qaP-QfTxA3sj7jxstHDtb6RLw=s64",
      "userId": "10163411640105691678"
     },
     "user_tz": 0
    },
    "id": "hplKa6VegWkP",
    "outputId": "f1841a60-4528-4c88-f6bc-d88769ad55b6"
   },
   "outputs": [
    {
     "name": "stdout",
     "output_type": "stream",
     "text": [
      "The ratings dataframe is  98.30% empty.\n"
     ]
    }
   ],
   "source": [
    "# Sparsity shows how sparse is the matrix, e.g. 99% sparsity shows that, 99% of the entries in the matrix are missing.\n",
    "# Count the total number of ratings in the dataset\n",
    "numerator = ratings.select(\"rating\").count()\n",
    "\n",
    "# Count the number of distinct userIds and distinct movieIds\n",
    "num_users = ratings.select(\"userId\").distinct().count()\n",
    "num_movies = ratings.select(\"movieId\").distinct().count()\n",
    "\n",
    "# Set the denominator equal to the number of users multiplied by the number of movies\n",
    "denominator = num_users * num_movies\n",
    "\n",
    "# Divide the numerator by the denominator\n",
    "sparsity = (1.0 - (numerator *1.0)/denominator)*100\n",
    "print(\"The ratings dataframe is \", \"%.2f\" % sparsity + \"% empty.\")"
   ]
  },
  {
   "cell_type": "code",
   "execution_count": 6,
   "metadata": {
    "colab": {
     "base_uri": "https://localhost:8080/"
    },
    "executionInfo": {
     "elapsed": 2366,
     "status": "ok",
     "timestamp": 1612856817741,
     "user": {
      "displayName": "Dr MAG",
      "photoUrl": "https://lh3.googleusercontent.com/a-/AOh14GhwThKdoh_zvfhd2qaP-QfTxA3sj7jxstHDtb6RLw=s64",
      "userId": "10163411640105691678"
     },
     "user_tz": 0
    },
    "id": "spvf2NX2gmPh",
    "outputId": "372e34ba-d2d3-419a-d9e5-a4ebc324e642"
   },
   "outputs": [
    {
     "name": "stdout",
     "output_type": "stream",
     "text": [
      "+------+-----+\n",
      "|userId|count|\n",
      "+------+-----+\n",
      "|   414| 2698|\n",
      "|   599| 2478|\n",
      "|   474| 2108|\n",
      "|   448| 1864|\n",
      "|   274| 1346|\n",
      "|   610| 1302|\n",
      "|    68| 1260|\n",
      "|   380| 1218|\n",
      "|   606| 1115|\n",
      "|   288| 1055|\n",
      "|   249| 1046|\n",
      "|   387| 1027|\n",
      "|   182|  977|\n",
      "|   307|  975|\n",
      "|   603|  943|\n",
      "|   298|  939|\n",
      "|   177|  904|\n",
      "|   318|  879|\n",
      "|   232|  862|\n",
      "|   480|  836|\n",
      "+------+-----+\n",
      "only showing top 20 rows\n",
      "\n"
     ]
    }
   ],
   "source": [
    "# Group data by userId, count ratings\n",
    "userId_ratings = ratings.groupBy(\"userId\").count().orderBy('count', ascending=False)\n",
    "userId_ratings.show()"
   ]
  },
  {
   "cell_type": "code",
   "execution_count": 8,
   "metadata": {
    "colab": {
     "base_uri": "https://localhost:8080/"
    },
    "executionInfo": {
     "elapsed": 2239,
     "status": "ok",
     "timestamp": 1612856830349,
     "user": {
      "displayName": "Dr MAG",
      "photoUrl": "https://lh3.googleusercontent.com/a-/AOh14GhwThKdoh_zvfhd2qaP-QfTxA3sj7jxstHDtb6RLw=s64",
      "userId": "10163411640105691678"
     },
     "user_tz": 0
    },
    "id": "D1I-iWfxgwFz",
    "outputId": "48739a42-af79-44eb-8429-0637e30b729b"
   },
   "outputs": [
    {
     "name": "stdout",
     "output_type": "stream",
     "text": [
      "+-------+-----+\n",
      "|movieId|count|\n",
      "+-------+-----+\n",
      "|    356|  329|\n",
      "|    318|  317|\n",
      "|    296|  307|\n",
      "|    593|  279|\n",
      "|   2571|  278|\n",
      "|    260|  251|\n",
      "|    480|  238|\n",
      "|    110|  237|\n",
      "|    589|  224|\n",
      "|    527|  220|\n",
      "|   2959|  218|\n",
      "|      1|  215|\n",
      "|   1196|  211|\n",
      "|   2858|  204|\n",
      "|     50|  204|\n",
      "|     47|  203|\n",
      "|    780|  202|\n",
      "|    150|  201|\n",
      "|   1198|  200|\n",
      "|   4993|  198|\n",
      "+-------+-----+\n",
      "only showing top 20 rows\n",
      "\n"
     ]
    }
   ],
   "source": [
    "\n",
    "# Group data by movieId, count ratings\n",
    "movieId_ratings = ratings.groupBy(\"movieId\").count().orderBy('count', ascending=False)\n",
    "movieId_ratings.show()"
   ]
  },
  {
   "cell_type": "code",
   "execution_count": null,
   "metadata": {
    "id": "r2HMZ7c1g8WZ"
   },
   "outputs": [],
   "source": [
    "##################################\n",
    "# ALS MODEL --- Alternative Least Square Method "
   ]
  },
  {
   "cell_type": "code",
   "execution_count": 9,
   "metadata": {
    "executionInfo": {
     "elapsed": 1153,
     "status": "ok",
     "timestamp": 1612856965655,
     "user": {
      "displayName": "Dr MAG",
      "photoUrl": "https://lh3.googleusercontent.com/a-/AOh14GhwThKdoh_zvfhd2qaP-QfTxA3sj7jxstHDtb6RLw=s64",
      "userId": "10163411640105691678"
     },
     "user_tz": 0
    },
    "id": "gCyVwKoUg-SD"
   },
   "outputs": [],
   "source": [
    "\n",
    "# Import the required functions\n",
    "from pyspark.ml.evaluation import RegressionEvaluator\n",
    "from pyspark.ml.recommendation import ALS\n",
    "from pyspark.ml.tuning import ParamGridBuilder, CrossValidator"
   ]
  },
  {
   "cell_type": "code",
   "execution_count": 10,
   "metadata": {
    "colab": {
     "base_uri": "https://localhost:8080/"
    },
    "executionInfo": {
     "elapsed": 11596,
     "status": "ok",
     "timestamp": 1612856989743,
     "user": {
      "displayName": "Dr MAG",
      "photoUrl": "https://lh3.googleusercontent.com/a-/AOh14GhwThKdoh_zvfhd2qaP-QfTxA3sj7jxstHDtb6RLw=s64",
      "userId": "10163411640105691678"
     },
     "user_tz": 0
    },
    "id": "fRkNmwjFhB5G",
    "outputId": "f93e4014-7ede-4772-c6e8-593ccd06c8b7"
   },
   "outputs": [
    {
     "name": "stdout",
     "output_type": "stream",
     "text": [
      "+------+-------+------+----------+\n",
      "|userId|movieId|rating|prediction|\n",
      "+------+-------+------+----------+\n",
      "|   148|   4896|   4.0| 3.4162953|\n",
      "|   148|   5618|   3.0| 3.7065077|\n",
      "|   148|   7153|   3.0| 3.4188726|\n",
      "|   148|  40629|   5.0| 3.2049396|\n",
      "|   148|  40815|   4.0| 3.5776799|\n",
      "|   148|  60069|   4.5| 3.7646391|\n",
      "|   148|  68954|   4.0|  3.833721|\n",
      "|   148|  69844|   4.0|  3.527831|\n",
      "|   148|  79132|   1.5| 3.8848894|\n",
      "|   148|  79702|   4.0| 3.6236491|\n",
      "|   148|  81834|   4.0| 3.5732112|\n",
      "|   148|  81847|   4.5| 2.9250026|\n",
      "|   148|  98243|   4.5| 3.8240626|\n",
      "|   148|  98491|   5.0| 3.5541852|\n",
      "|   148| 108932|   4.0| 3.6497884|\n",
      "|   463|   1088|   3.5| 3.8528962|\n",
      "|   463|   1221|   4.5| 3.9813879|\n",
      "|   463|   2028|   4.5| 4.1558304|\n",
      "|   463|   2167|   3.0| 3.8384085|\n",
      "|   463|   3448|   3.0| 3.6221385|\n",
      "+------+-------+------+----------+\n",
      "only showing top 20 rows\n",
      "\n"
     ]
    }
   ],
   "source": [
    "# Split the ratings dataframe into training and test data\n",
    "(train, test) = ratings.randomSplit([0.8, 0.2], seed=42)\n",
    "\n",
    "# Set the ALS hyperparameters\n",
    "als = ALS(\n",
    "    userCol=\"userId\", \n",
    "    itemCol=\"movieId\", \n",
    "    ratingCol=\"rating\", \n",
    "    rank =10, \n",
    "    maxIter =10, \n",
    "    regParam =.1,\n",
    "    coldStartStrategy=\"drop\", \n",
    "    nonnegative =True, \n",
    "    implicitPrefs = False\n",
    ")\n",
    "\n",
    "# Fit the model to the training_data\n",
    "als_model = als.fit(train)\n",
    "\n",
    "# Generate predictions on the test_data\n",
    "test_predictions = als_model.transform(test)\n",
    "test_predictions.show()"
   ]
  },
  {
   "cell_type": "code",
   "execution_count": 12,
   "metadata": {
    "colab": {
     "base_uri": "https://localhost:8080/"
    },
    "executionInfo": {
     "elapsed": 9663,
     "status": "ok",
     "timestamp": 1612857165633,
     "user": {
      "displayName": "Dr MAG",
      "photoUrl": "https://lh3.googleusercontent.com/a-/AOh14GhwThKdoh_zvfhd2qaP-QfTxA3sj7jxstHDtb6RLw=s64",
      "userId": "10163411640105691678"
     },
     "user_tz": 0
    },
    "id": "EjWax6vEhmRV",
    "outputId": "b86d2744-dc34-4934-c4e0-39518782042a"
   },
   "outputs": [
    {
     "name": "stdout",
     "output_type": "stream",
     "text": [
      "rmse\n",
      "rating\n",
      "prediction\n",
      "RMSE =  0.8728464473016619\n"
     ]
    }
   ],
   "source": [
    "# Import RegressionEvaluator\n",
    "from pyspark.ml.evaluation import RegressionEvaluator\n",
    "\n",
    "# Complete the evaluator code\n",
    "evaluator = RegressionEvaluator(metricName=\"rmse\", labelCol=\"rating\", predictionCol=\"prediction\")\n",
    "\n",
    "# Extract the 3 parameters\n",
    "print(evaluator.getMetricName())\n",
    "print(evaluator.getLabelCol())\n",
    "print(evaluator.getPredictionCol())\n",
    "\n",
    "\n",
    "# Evaluate the \"test_predictions\" dataframe\n",
    "RMSE = evaluator.evaluate(test_predictions)\n",
    "\n",
    "# Print the RMSE\n",
    "print ('RMSE = ', RMSE)"
   ]
  },
  {
   "cell_type": "code",
   "execution_count": 13,
   "metadata": {
    "colab": {
     "base_uri": "https://localhost:8080/"
    },
    "executionInfo": {
     "elapsed": 7022,
     "status": "ok",
     "timestamp": 1612857228501,
     "user": {
      "displayName": "Dr MAG",
      "photoUrl": "https://lh3.googleusercontent.com/a-/AOh14GhwThKdoh_zvfhd2qaP-QfTxA3sj7jxstHDtb6RLw=s64",
      "userId": "10163411640105691678"
     },
     "user_tz": 0
    },
    "id": "DNjeXn5DhnrT",
    "outputId": "6eb6f891-51d3-45f1-e6d8-4584712dca2d"
   },
   "outputs": [
    {
     "name": "stderr",
     "output_type": "stream",
     "text": [
      "C:\\Users\\moham\\AppData\\Local\\Programs\\Python\\Python38\\lib\\site-packages\\pyspark\\sql\\context.py:125: FutureWarning: Deprecated in 3.0.0. Use SparkSession.builder.getOrCreate() instead.\n",
      "  warnings.warn(\n"
     ]
    },
    {
     "name": "stdout",
     "output_type": "stream",
     "text": [
      "+------+--------------------+\n",
      "|userId|     recommendations|\n",
      "+------+--------------------+\n",
      "|     1|[{96004, 5.75677}...|\n",
      "|     3|[{6835, 4.903592}...|\n",
      "|     5|[{4642, 4.864058}...|\n",
      "|     6|[{51931, 5.074078...|\n",
      "|     9|[{96004, 5.376312...|\n",
      "|    12|[{32892, 5.905121...|\n",
      "|    13|[{53123, 5.331166...|\n",
      "|    15|[{26171, 5.214606...|\n",
      "|    16|[{25771, 4.497718...|\n",
      "|    17|[{96004, 5.104533...|\n",
      "+------+--------------------+\n",
      "\n"
     ]
    }
   ],
   "source": [
    "# Generate n Recommendations for all users\n",
    "nrecommendations = als_model.recommendForAllUsers(10)\n",
    "nrecommendations.limit(10).show()"
   ]
  },
  {
   "cell_type": "code",
   "execution_count": 14,
   "metadata": {
    "colab": {
     "base_uri": "https://localhost:8080/"
    },
    "executionInfo": {
     "elapsed": 6409,
     "status": "ok",
     "timestamp": 1612857253020,
     "user": {
      "displayName": "Dr MAG",
      "photoUrl": "https://lh3.googleusercontent.com/a-/AOh14GhwThKdoh_zvfhd2qaP-QfTxA3sj7jxstHDtb6RLw=s64",
      "userId": "10163411640105691678"
     },
     "user_tz": 0
    },
    "id": "4VN93DPmhvkF",
    "outputId": "277751ff-30d7-4160-b76c-d23801150bd6"
   },
   "outputs": [
    {
     "name": "stdout",
     "output_type": "stream",
     "text": [
      "+------+-------+---------+\n",
      "|userId|movieId|   rating|\n",
      "+------+-------+---------+\n",
      "|     1|  96004|  5.75677|\n",
      "|     1|   3379|  5.75677|\n",
      "|     1| 171495|5.6745763|\n",
      "|     1|  33649| 5.661552|\n",
      "|     1| 177593| 5.646361|\n",
      "|     1|  93988|5.5603123|\n",
      "|     1|   7748| 5.515378|\n",
      "|     1| 132333|5.5100846|\n",
      "|     1|   5915|5.4998503|\n",
      "|     1|  78836| 5.485668|\n",
      "|     3|   6835| 4.903592|\n",
      "+------+-------+---------+\n",
      "\n"
     ]
    }
   ],
   "source": [
    "#Explaining the recommendations i.e splitting recommendations col to movie id and rating\n",
    "\n",
    "from pyspark.sql.functions import split, explode\n",
    "\n",
    "nrecommendations = nrecommendations\\\n",
    "    .withColumn(\"rec_exp\", explode(\"recommendations\"))\\\n",
    "    .select('userId', F.col(\"rec_exp.movieId\"), F.col(\"rec_exp.rating\"))\n",
    "\n",
    "nrecommendations.limit(11).show()"
   ]
  },
  {
   "cell_type": "code",
   "execution_count": 15,
   "metadata": {
    "colab": {
     "base_uri": "https://localhost:8080/"
    },
    "executionInfo": {
     "elapsed": 4517,
     "status": "ok",
     "timestamp": 1612857262296,
     "user": {
      "displayName": "Dr MAG",
      "photoUrl": "https://lh3.googleusercontent.com/a-/AOh14GhwThKdoh_zvfhd2qaP-QfTxA3sj7jxstHDtb6RLw=s64",
      "userId": "10163411640105691678"
     },
     "user_tz": 0
    },
    "id": "a5C50BXuh_g8",
    "outputId": "80fe892c-777f-4b93-a9be-191782038fab"
   },
   "outputs": [
    {
     "name": "stdout",
     "output_type": "stream",
     "text": [
      "+-------+------+---------+--------------------+--------------------+\n",
      "|movieId|userId|   rating|               title|              genres|\n",
      "+-------+------+---------+--------------------+--------------------+\n",
      "|  98279|   100|  5.14397|Fantastic Fear of...|              Comedy|\n",
      "|   6732|   100| 5.110941|Hello, Dolly! (1969)|Comedy|Musical|Ro...|\n",
      "|   3606|   100|5.0456553|  On the Town (1949)|Comedy|Musical|Ro...|\n",
      "|  92643|   100|5.0208907|Monsieur Lazhar (...|Children|Comedy|D...|\n",
      "|   1066|   100| 5.016412|Shall We Dance (1...|Comedy|Musical|Ro...|\n",
      "|  74282|   100|  5.00795|Anne of Green Gab...|Children|Drama|Ro...|\n",
      "|  67618|   100|5.0015407|Strictly Sexual (...|Comedy|Drama|Romance|\n",
      "|  32892|   100|4.9997854|Ivan's Childhood ...|           Drama|War|\n",
      "|    171|   100| 4.976853|      Jeffrey (1995)|        Comedy|Drama|\n",
      "|     82|   100|4.9596453|Antonia's Line (A...|        Comedy|Drama|\n",
      "+-------+------+---------+--------------------+--------------------+\n",
      "\n"
     ]
    }
   ],
   "source": [
    "#Explaining the recommendations \n",
    "nrecommendations.join(movies, on='movieId').filter('userId = 100').show()\n"
   ]
  },
  {
   "cell_type": "code",
   "execution_count": 23,
   "metadata": {
    "colab": {
     "base_uri": "https://localhost:8080/"
    },
    "executionInfo": {
     "elapsed": 1649,
     "status": "ok",
     "timestamp": 1612857305836,
     "user": {
      "displayName": "Dr MAG",
      "photoUrl": "https://lh3.googleusercontent.com/a-/AOh14GhwThKdoh_zvfhd2qaP-QfTxA3sj7jxstHDtb6RLw=s64",
      "userId": "10163411640105691678"
     },
     "user_tz": 0
    },
    "id": "bPTsLjOHn0Xl",
    "outputId": "73d22944-e675-4afc-fcf9-cafd23137c42"
   },
   "outputs": [
    {
     "name": "stdout",
     "output_type": "stream",
     "text": [
      "+-------+------+------+--------------------+--------------------+\n",
      "|movieId|userId|rating|               title|              genres|\n",
      "+-------+------+------+--------------------+--------------------+\n",
      "|   1101|   100|   5.0|      Top Gun (1986)|      Action|Romance|\n",
      "|   1958|   100|   5.0|Terms of Endearme...|        Comedy|Drama|\n",
      "|   2423|   100|   5.0|Christmas Vacatio...|              Comedy|\n",
      "|   4041|   100|   5.0|Officer and a Gen...|       Drama|Romance|\n",
      "|   5620|   100|   5.0|Sweet Home Alabam...|      Comedy|Romance|\n",
      "|    368|   100|   4.5|     Maverick (1994)|Adventure|Comedy|...|\n",
      "|    934|   100|   4.5|Father of the Bri...|              Comedy|\n",
      "|    539|   100|   4.5|Sleepless in Seat...|Comedy|Drama|Romance|\n",
      "|     16|   100|   4.5|       Casino (1995)|         Crime|Drama|\n",
      "|    553|   100|   4.5|    Tombstone (1993)|Action|Drama|Western|\n",
      "+-------+------+------+--------------------+--------------------+\n",
      "\n"
     ]
    }
   ],
   "source": [
    "ratings.join(movies, on='movieId').filter('userId = 100').sort('rating', ascending=False).limit(10).show()\n"
   ]
  }
 ],
 "metadata": {
  "colab": {
   "authorship_tag": "ABX9TyOAuzgvFJ4aeim/GSNblODz",
   "name": "CD6103_RecSys_simple.ipynb",
   "provenance": [
    {
     "file_id": "1mOCWbsifgEkEmgAUXK3sEeUSyoylaNMO",
     "timestamp": 1612769778654
    }
   ]
  },
  "kernelspec": {
   "display_name": "Python 3 (ipykernel)",
   "language": "python",
   "name": "python3"
  },
  "language_info": {
   "codemirror_mode": {
    "name": "ipython",
    "version": 3
   },
   "file_extension": ".py",
   "mimetype": "text/x-python",
   "name": "python",
   "nbconvert_exporter": "python",
   "pygments_lexer": "ipython3",
   "version": "3.8.10"
  }
 },
 "nbformat": 4,
 "nbformat_minor": 4
}
