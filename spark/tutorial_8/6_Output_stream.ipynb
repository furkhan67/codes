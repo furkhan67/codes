{
 "cells": [
  {
   "cell_type": "markdown",
   "metadata": {
    "id": "jCsI_NAgqxTR"
   },
   "source": [
    "# **Data Streaming using PySpark **\n",
    "\n",
    "---\n",
    "\n",
    "**saveAsTextFile(path, compressionCodecClass=None)**: Save this RDD as a text file, using string representations of elements.\n",
    "\t\n",
    "**path** – path to text file\n",
    "\n",
    "**compressionCodecClass** – (None by default) string i.e. “org.apache.hadoop.io.compress.GzipCodec”\n"
   ]
  },
  {
   "cell_type": "code",
   "execution_count": null,
   "metadata": {
    "id": "71wkafFmqvn5"
   },
   "outputs": [],
   "source": [
    "# Load Spark engine\n",
    "import findspark\n",
    "findspark.init()"
   ]
  },
  {
   "cell_type": "code",
   "execution_count": null,
   "metadata": {
    "id": "p1iznm68qvn6"
   },
   "outputs": [],
   "source": [
    "import sys\n",
    "from pyspark import SparkContext, SparkConf\n",
    "from pyspark.streaming import StreamingContext"
   ]
  },
  {
   "cell_type": "code",
   "execution_count": null,
   "metadata": {
    "id": "QPINtwD5qvn7"
   },
   "outputs": [],
   "source": [
    "sc = SparkContext(master=\"local[*]\", appName=\"Output_Stream_example\")\n",
    "sc.setLogLevel(\"ERROR\")\n",
    "\n",
    "ssc = StreamingContext(sc, 5)\n",
    "ssc.checkpoint(\"checkpoint\")"
   ]
  },
  {
   "cell_type": "code",
   "execution_count": null,
   "metadata": {
    "id": "Bq8nJiLOqvn7"
   },
   "outputs": [],
   "source": [
    "lines = ssc.socketTextStream(\"localhost\", 7000)\n",
    "# open cmd and type: nc -lk 7000"
   ]
  },
  {
   "cell_type": "code",
   "execution_count": null,
   "metadata": {
    "id": "ju50E3uDqvn7"
   },
   "outputs": [],
   "source": [
    "words = lines.flatMap(lambda line: line.split(\" \"))\\\n",
    "             .map(lambda x: (x, 1))\\\n",
    "             .reduceByKey(lambda a, b: a+b)\n",
    "\n",
    "words.saveAsTextFiles(\"output/Count\")"
   ]
  },
  {
   "cell_type": "code",
   "execution_count": null,
   "metadata": {
    "id": "u95ZZxVrqvn8"
   },
   "outputs": [],
   "source": [
    "ssc.start()"
   ]
  },
  {
   "cell_type": "code",
   "execution_count": null,
   "metadata": {
    "id": "Z0_-p9g8qvn8",
    "scrolled": true
   },
   "outputs": [],
   "source": [
    "ssc.stop(stopSparkContext=True, stopGraceFully=True)"
   ]
  }
 ],
 "metadata": {
  "colab": {
   "collapsed_sections": [],
   "name": "6- Output_stream.ipynb",
   "provenance": [],
   "toc_visible": true
  },
  "kernelspec": {
   "display_name": "Python 3.8.5 64-bit",
   "language": "python",
   "name": "python3"
  },
  "language_info": {
   "codemirror_mode": {
    "name": "ipython",
    "version": 3
   },
   "file_extension": ".py",
   "mimetype": "text/x-python",
   "name": "python",
   "nbconvert_exporter": "python",
   "pygments_lexer": "ipython3",
   "version": "3.8.5"
  },
  "vscode": {
   "interpreter": {
    "hash": "e1e50afc35c5bf48b6480db009e29dffe9b3dc8b7d11ef5d69051a76ab35e225"
   }
  }
 },
 "nbformat": 4,
 "nbformat_minor": 4
}
