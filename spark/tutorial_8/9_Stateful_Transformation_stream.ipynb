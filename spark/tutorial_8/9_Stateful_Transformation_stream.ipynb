{
 "cells": [
  {
   "cell_type": "markdown",
   "metadata": {
    "id": "0naiBGFbpipA"
   },
   "source": [
    "# **Data Streaming using PySpark**\n",
    "\n",
    "---\n",
    "\n",
    "**updateStateByKey Operation**:\tIt allows you to maintain arbitrary state while continuously updating it with new information. To use this, you will have to do two steps:\n",
    "\n",
    "[1] Define the state - The state can be an arbitrary data type.\n",
    "\n",
    "[2] Define the state update function - Specify with a function how to update the state using the previous state and the new values from an input stream."
   ]
  },
  {
   "cell_type": "code",
   "execution_count": 1,
   "metadata": {
    "id": "08YldFGupg4t"
   },
   "outputs": [],
   "source": [
    "# Load Spark engine\n",
    "import findspark\n",
    "findspark.init()"
   ]
  },
  {
   "cell_type": "code",
   "execution_count": 2,
   "metadata": {
    "id": "8zJVMyJgpg4u"
   },
   "outputs": [],
   "source": [
    "from pyspark import SparkContext\n",
    "from pyspark.streaming import StreamingContext"
   ]
  },
  {
   "cell_type": "code",
   "execution_count": 3,
   "metadata": {
    "id": "mGzfWI83pg4v"
   },
   "outputs": [
    {
     "name": "stderr",
     "output_type": "stream",
     "text": [
      "22/03/28 14:21:39 WARN Utils: Your hostname, Predator-G3572 resolves to a loopback address: 127.0.1.1; using 172.29.43.74 instead (on interface eth0)\n",
      "22/03/28 14:21:39 WARN Utils: Set SPARK_LOCAL_IP if you need to bind to another address\n",
      "Using Spark's default log4j profile: org/apache/spark/log4j-defaults.properties\n",
      "Setting default log level to \"WARN\".\n",
      "To adjust logging level use sc.setLogLevel(newLevel). For SparkR, use setLogLevel(newLevel).\n",
      "22/03/28 14:21:40 WARN NativeCodeLoader: Unable to load native-hadoop library for your platform... using builtin-java classes where applicable\n",
      "22/03/28 14:21:41 WARN Utils: Service 'SparkUI' could not bind on port 4040. Attempting port 4041.\n"
     ]
    }
   ],
   "source": [
    "##### add config\n",
    "sc = SparkContext()\n",
    "ssc = StreamingContext(sc, 5)\n",
    "ssc.checkpoint('checkpoint')"
   ]
  },
  {
   "cell_type": "code",
   "execution_count": 4,
   "metadata": {
    "id": "CdFYg6Fqpg4v"
   },
   "outputs": [],
   "source": [
    "int_values = ssc.socketTextStream('localhost', 7000)\n",
    "# open cmd and type: nc -lk 7000"
   ]
  },
  {
   "cell_type": "code",
   "execution_count": 5,
   "metadata": {
    "id": "xfy_S7KHpg4w"
   },
   "outputs": [],
   "source": [
    "# Function adds new values with previous running count to get new count\n",
    "\n",
    "# The update function will be called for each word, with newValues having\n",
    "# a sequence of 1’s (from the (word, 1) pairs) and the runningCount having the previous count.\n",
    "\n",
    "def updateFunction(newValues, runningCount):\n",
    "    if runningCount is None:\n",
    "        runningCount = 0\n",
    "    \n",
    "    return sum(newValues, runningCount)"
   ]
  },
  {
   "cell_type": "code",
   "execution_count": 7,
   "metadata": {
    "id": "aUG6Zzz3pg4w"
   },
   "outputs": [],
   "source": [
    "# Take a remainder value by 10 at each window for the incoming numbers.\n",
    "# Counts how many times each number between 0 and 9 is seen.\n",
    "\n",
    "Remainder = int_values.map(lambda x: int(x) % 10).map(lambda x: (x,1)).updateStateByKey(updateFunction)\n",
    "\n",
    "Remainder.pprint()\n",
    "\n",
    "#Remainder.count().pprint()"
   ]
  },
  {
   "cell_type": "code",
   "execution_count": 8,
   "metadata": {
    "id": "bsVWnX58pg4x"
   },
   "outputs": [
    {
     "name": "stderr",
     "output_type": "stream",
     "text": [
      "                                                                                \r"
     ]
    },
    {
     "name": "stdout",
     "output_type": "stream",
     "text": [
      "-------------------------------------------\n",
      "Time: 2022-03-28 14:23:10\n",
      "-------------------------------------------\n",
      "\n",
      "-------------------------------------------\n",
      "Time: 2022-03-28 14:23:10\n",
      "-------------------------------------------\n",
      "\n"
     ]
    },
    {
     "name": "stderr",
     "output_type": "stream",
     "text": [
      "22/03/28 14:23:15 WARN RandomBlockReplicationPolicy: Expecting 1 replicas with only 0 peer/s.\n",
      "22/03/28 14:23:15 WARN BlockManager: Block input-0-1648473795200 replicated to only 0 peer(s) instead of 1 peers\n"
     ]
    },
    {
     "name": "stdout",
     "output_type": "stream",
     "text": [
      "-------------------------------------------\n",
      "Time: 2022-03-28 14:23:15\n",
      "-------------------------------------------\n",
      "\n",
      "-------------------------------------------\n",
      "Time: 2022-03-28 14:23:15\n",
      "-------------------------------------------\n",
      "\n"
     ]
    },
    {
     "name": "stderr",
     "output_type": "stream",
     "text": [
      "22/03/28 14:23:18 WARN RandomBlockReplicationPolicy: Expecting 1 replicas with only 0 peer/s.\n",
      "22/03/28 14:23:18 WARN BlockManager: Block input-0-1648473798400 replicated to only 0 peer(s) instead of 1 peers\n",
      "                                                                                \r"
     ]
    },
    {
     "name": "stdout",
     "output_type": "stream",
     "text": [
      "-------------------------------------------\n",
      "Time: 2022-03-28 14:23:20\n",
      "-------------------------------------------\n",
      "(0, 1)\n",
      "(2, 1)\n",
      "\n"
     ]
    },
    {
     "name": "stderr",
     "output_type": "stream",
     "text": [
      "22/03/28 14:23:21 WARN RandomBlockReplicationPolicy: Expecting 1 replicas with only 0 peer/s.\n",
      "22/03/28 14:23:21 WARN BlockManager: Block input-0-1648473800800 replicated to only 0 peer(s) instead of 1 peers\n"
     ]
    },
    {
     "name": "stdout",
     "output_type": "stream",
     "text": [
      "-------------------------------------------\n",
      "Time: 2022-03-28 14:23:20\n",
      "-------------------------------------------\n",
      "(0, 1)\n",
      "(2, 1)\n",
      "\n"
     ]
    },
    {
     "name": "stderr",
     "output_type": "stream",
     "text": [
      "                                                                                \r"
     ]
    },
    {
     "name": "stdout",
     "output_type": "stream",
     "text": [
      "-------------------------------------------\n",
      "Time: 2022-03-28 14:23:25\n",
      "-------------------------------------------\n",
      "(0, 2)\n",
      "(2, 1)\n",
      "\n",
      "-------------------------------------------\n",
      "Time: 2022-03-28 14:23:25\n",
      "-------------------------------------------\n",
      "(0, 2)\n",
      "(2, 1)\n",
      "\n"
     ]
    },
    {
     "name": "stderr",
     "output_type": "stream",
     "text": [
      "                                                                                \r"
     ]
    },
    {
     "name": "stdout",
     "output_type": "stream",
     "text": [
      "-------------------------------------------\n",
      "Time: 2022-03-28 14:23:30\n",
      "-------------------------------------------\n",
      "(0, 2)\n",
      "(2, 1)\n",
      "\n",
      "-------------------------------------------\n",
      "Time: 2022-03-28 14:23:30\n",
      "-------------------------------------------\n",
      "(0, 2)\n",
      "(2, 1)\n",
      "\n"
     ]
    },
    {
     "name": "stderr",
     "output_type": "stream",
     "text": [
      "                                                                                \r"
     ]
    },
    {
     "name": "stdout",
     "output_type": "stream",
     "text": [
      "-------------------------------------------\n",
      "Time: 2022-03-28 14:23:35\n",
      "-------------------------------------------\n",
      "(0, 2)\n",
      "(2, 1)\n",
      "\n",
      "-------------------------------------------\n",
      "Time: 2022-03-28 14:23:35\n",
      "-------------------------------------------\n",
      "(0, 2)\n",
      "(2, 1)\n",
      "\n"
     ]
    },
    {
     "name": "stderr",
     "output_type": "stream",
     "text": [
      "                                                                                \r"
     ]
    },
    {
     "name": "stdout",
     "output_type": "stream",
     "text": [
      "-------------------------------------------\n",
      "Time: 2022-03-28 14:23:40\n",
      "-------------------------------------------\n",
      "(0, 2)\n",
      "(2, 1)\n",
      "\n",
      "-------------------------------------------\n",
      "Time: 2022-03-28 14:23:40\n",
      "-------------------------------------------\n",
      "(0, 2)\n",
      "(2, 1)\n",
      "\n"
     ]
    },
    {
     "name": "stderr",
     "output_type": "stream",
     "text": [
      "                                                                                \r"
     ]
    },
    {
     "name": "stdout",
     "output_type": "stream",
     "text": [
      "-------------------------------------------\n",
      "Time: 2022-03-28 14:23:45\n",
      "-------------------------------------------\n",
      "(0, 2)\n",
      "(2, 1)\n",
      "\n",
      "-------------------------------------------\n",
      "Time: 2022-03-28 14:23:45\n",
      "-------------------------------------------\n",
      "(0, 2)\n",
      "(2, 1)\n",
      "\n"
     ]
    },
    {
     "name": "stderr",
     "output_type": "stream",
     "text": [
      "                                                                                \r"
     ]
    },
    {
     "name": "stdout",
     "output_type": "stream",
     "text": [
      "-------------------------------------------\n",
      "Time: 2022-03-28 14:23:50\n",
      "-------------------------------------------\n",
      "(0, 2)\n",
      "(2, 1)\n",
      "\n",
      "-------------------------------------------\n",
      "Time: 2022-03-28 14:23:50\n",
      "-------------------------------------------\n",
      "(0, 2)\n",
      "(2, 1)\n",
      "\n"
     ]
    },
    {
     "name": "stderr",
     "output_type": "stream",
     "text": [
      "                                                                                \r"
     ]
    },
    {
     "name": "stdout",
     "output_type": "stream",
     "text": [
      "-------------------------------------------\n",
      "Time: 2022-03-28 14:23:55\n",
      "-------------------------------------------\n",
      "(0, 2)\n",
      "(2, 1)\n",
      "\n",
      "-------------------------------------------\n",
      "Time: 2022-03-28 14:23:55\n",
      "-------------------------------------------\n",
      "(0, 2)\n",
      "(2, 1)\n",
      "\n"
     ]
    },
    {
     "name": "stderr",
     "output_type": "stream",
     "text": [
      "                                                                                \r"
     ]
    },
    {
     "name": "stdout",
     "output_type": "stream",
     "text": [
      "-------------------------------------------\n",
      "Time: 2022-03-28 14:24:00\n",
      "-------------------------------------------\n",
      "(0, 2)\n",
      "(2, 1)\n",
      "\n",
      "-------------------------------------------\n",
      "Time: 2022-03-28 14:24:00\n",
      "-------------------------------------------\n",
      "(0, 2)\n",
      "(2, 1)\n",
      "\n"
     ]
    },
    {
     "name": "stderr",
     "output_type": "stream",
     "text": [
      "                                                                                \r"
     ]
    },
    {
     "name": "stdout",
     "output_type": "stream",
     "text": [
      "-------------------------------------------\n",
      "Time: 2022-03-28 14:24:05\n",
      "-------------------------------------------\n",
      "(0, 2)\n",
      "(2, 1)\n",
      "\n",
      "-------------------------------------------\n",
      "Time: 2022-03-28 14:24:05\n",
      "-------------------------------------------\n",
      "(0, 2)\n",
      "(2, 1)\n",
      "\n"
     ]
    },
    {
     "name": "stderr",
     "output_type": "stream",
     "text": [
      "[Stage 0:>                                                          (0 + 1) / 1]\r"
     ]
    }
   ],
   "source": [
    "ssc.start()"
   ]
  },
  {
   "cell_type": "code",
   "execution_count": null,
   "metadata": {
    "id": "53uTaq-epg4x",
    "scrolled": true
   },
   "outputs": [],
   "source": [
    "ssc.stop(stopSparkContext=True, stopGraceFully=True)"
   ]
  }
 ],
 "metadata": {
  "colab": {
   "collapsed_sections": [],
   "name": "9- Stateful_Transformation_stream.ipynb",
   "provenance": []
  },
  "kernelspec": {
   "display_name": "Python 3.8.5 64-bit",
   "language": "python",
   "name": "python3"
  },
  "language_info": {
   "codemirror_mode": {
    "name": "ipython",
    "version": 3
   },
   "file_extension": ".py",
   "mimetype": "text/x-python",
   "name": "python",
   "nbconvert_exporter": "python",
   "pygments_lexer": "ipython3",
   "version": "3.8.5"
  },
  "vscode": {
   "interpreter": {
    "hash": "e1e50afc35c5bf48b6480db009e29dffe9b3dc8b7d11ef5d69051a76ab35e225"
   }
  }
 },
 "nbformat": 4,
 "nbformat_minor": 4
}
