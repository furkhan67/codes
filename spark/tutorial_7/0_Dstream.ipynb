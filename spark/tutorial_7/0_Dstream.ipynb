{
 "cells": [
  {
   "cell_type": "markdown",
   "metadata": {
    "id": "fJ8g_6BdV_m6"
   },
   "source": [
    "# **Data Streaming using PySpark **\n",
    "\n",
    "\n",
    "\n",
    "---\n",
    "\n",
    "**Discretized Stream or DStream**: it is the basic abstraction, representing a continuous stream of data. Internally, a DStream is represented by a continuous series of RDDs, which is Spark’s abstraction of an immutable, distributed dataset. Each RDD in a DStream contains data from a certain interval.\n"
   ]
  },
  {
   "cell_type": "code",
   "execution_count": 1,
   "metadata": {
    "id": "qMe1E19gVpxC"
   },
   "outputs": [],
   "source": [
    "# Load Spark engine\n",
    "#!pip3 install findspark\n",
    "import findspark\n",
    "findspark.init()"
   ]
  },
  {
   "cell_type": "code",
   "execution_count": 1,
   "metadata": {
    "id": "KWgm2I2pVpxF"
   },
   "outputs": [],
   "source": [
    "import random,os,sys\n",
    "import time\n",
    "from pyspark import SparkContext\n",
    "from pyspark.streaming import StreamingContext\n",
    "\n",
    "os.environ['PYSPARK_DRIVER_PYTHON_OPTS']= \"notebook\"\n",
    "os.environ['PYSPARK_DRIVER_PYTHON'] = sys.executable\n",
    "os.environ['PYSPARK_PYTHON'] = sys.executable"
   ]
  },
  {
   "cell_type": "code",
   "execution_count": 2,
   "metadata": {
    "id": "gdTiZR5PVpxF"
   },
   "outputs": [],
   "source": [
    "#### Syntax:\n",
    "# StreamingContext(SparkContext sparkContext,Duration batchDuration)\n",
    "#   sparkContext - existing SparkContext\n",
    "#   batchDuration - the time interval at which streaming data will be divided into batches\n",
    "\n",
    "sc = SparkContext(appName=\"PythonStreamingQueue\")\n",
    "ssc = StreamingContext(sc, 1)"
   ]
  },
  {
   "cell_type": "code",
   "execution_count": 3,
   "metadata": {
    "id": "3rhNOeiOVpxG"
   },
   "outputs": [],
   "source": [
    "# Create random values using RDD parallelize\n",
    "rddQueue = list()\n",
    "for i in range(4):\n",
    "    rddQueue += [sc.parallelize([j for j in random.sample(range(1, 1000), 50)], 3)]\n",
    "    # random.sample(range(1, 1000), 50): pick randomly the 50 values from a range of (1, 1000)\n",
    "    # divide the data into 3 partitions\n",
    "    # rddQueue[0] = 50 random values between 1 and 1000\n",
    "    # rddQueue[1] = 50 random values between 1 and 1000\n",
    "    # rddQueue[2] = 50 random values between 1 and 1000\n",
    "    # rddQueue[3] = 50 random values between 1 and 1000"
   ]
  },
  {
   "cell_type": "code",
   "execution_count": 4,
   "metadata": {
    "id": "LvXxvlwFVpxG"
   },
   "outputs": [
    {
     "name": "stdout",
     "output_type": "stream",
     "text": [
      "[514, 641, 578, 570, 792, 978, 234, 472, 145, 438, 777, 187, 949, 285, 268, 399, 948, 807, 598, 983, 872, 752, 601, 661, 259, 908, 15, 941, 571, 731, 970, 554, 247, 371, 567, 914, 850, 962, 22, 229, 334, 562, 50, 175, 769, 98, 437, 518, 832, 751]\n"
     ]
    }
   ],
   "source": [
    "# check the created random numbers at first room:\n",
    "print(rddQueue[0].collect())"
   ]
  },
  {
   "cell_type": "code",
   "execution_count": 5,
   "metadata": {
    "id": "idASDVZXVpxG"
   },
   "outputs": [],
   "source": [
    "rdd_Stream = ssc.queueStream(rddQueue)\n",
    "mapped_rdd_Stream = rdd_Stream.map(lambda x: (x % 10, 1))\n",
    "reduced_rdd_Stream = mapped_rdd_Stream.reduceByKey(lambda x, y: x + y)\n",
    "reduced_rdd_Stream.pprint()"
   ]
  },
  {
   "cell_type": "code",
   "execution_count": 6,
   "metadata": {
    "id": "v17wlLrhVpxH"
   },
   "outputs": [
    {
     "name": "stdout",
     "output_type": "stream",
     "text": [
      "-------------------------------------------\n",
      "Time: 2022-03-22 10:54:05\n",
      "-------------------------------------------\n",
      "(8, 9)\n",
      "(0, 4)\n",
      "(1, 8)\n",
      "(9, 5)\n",
      "(2, 8)\n",
      "(3, 1)\n",
      "(4, 5)\n",
      "(5, 4)\n",
      "(7, 6)\n",
      "\n",
      "-------------------------------------------\n",
      "Time: 2022-03-22 10:54:06\n",
      "-------------------------------------------\n",
      "(0, 5)\n",
      "(8, 2)\n",
      "(1, 4)\n",
      "(9, 6)\n",
      "(2, 9)\n",
      "(3, 5)\n",
      "(4, 9)\n",
      "(5, 2)\n",
      "(6, 4)\n",
      "(7, 4)\n",
      "\n",
      "-------------------------------------------\n",
      "Time: 2022-03-22 10:54:07\n",
      "-------------------------------------------\n",
      "(0, 7)\n",
      "(8, 2)\n",
      "(9, 7)\n",
      "(1, 3)\n",
      "(2, 8)\n",
      "(3, 2)\n",
      "(4, 10)\n",
      "(5, 4)\n",
      "(6, 4)\n",
      "(7, 3)\n",
      "\n",
      "-------------------------------------------\n",
      "Time: 2022-03-22 10:54:08\n",
      "-------------------------------------------\n",
      "(0, 3)\n",
      "(8, 3)\n",
      "(9, 7)\n",
      "(1, 4)\n",
      "(2, 4)\n",
      "(3, 8)\n",
      "(4, 9)\n",
      "(5, 5)\n",
      "(6, 3)\n",
      "(7, 4)\n",
      "\n",
      "-------------------------------------------\n",
      "Time: 2022-03-22 10:54:09\n",
      "-------------------------------------------\n",
      "\n",
      "-------------------------------------------\n",
      "Time: 2022-03-22 10:54:10\n",
      "-------------------------------------------\n",
      "\n",
      "-------------------------------------------\n",
      "Time: 2022-03-22 10:54:11\n",
      "-------------------------------------------\n",
      "\n"
     ]
    }
   ],
   "source": [
    "ssc.start()\n",
    "time.sleep(5)  # wait here for 5 seconds\n",
    "ssc.stop(stopSparkContext=True, stopGraceFully=True)  # stop Sparkstreaming"
   ]
  },
  {
   "cell_type": "code",
   "execution_count": null,
   "metadata": {},
   "outputs": [],
   "source": []
  }
 ],
 "metadata": {
  "colab": {
   "collapsed_sections": [],
   "name": "0_Dstream.ipynb",
   "provenance": []
  },
  "kernelspec": {
   "display_name": "Python 3 (ipykernel)",
   "language": "python",
   "name": "python3"
  },
  "language_info": {
   "codemirror_mode": {
    "name": "ipython",
    "version": 3
   },
   "file_extension": ".py",
   "mimetype": "text/x-python",
   "name": "python",
   "nbconvert_exporter": "python",
   "pygments_lexer": "ipython3",
   "version": "3.8.5"
  }
 },
 "nbformat": 4,
 "nbformat_minor": 1
}
