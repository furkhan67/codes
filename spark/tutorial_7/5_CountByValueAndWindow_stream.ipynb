{
 "cells": [
  {
   "cell_type": "markdown",
   "metadata": {
    "id": "Pdd7cGJvpcP4"
   },
   "source": [
    "# **Data Streaming using PySpark [CN7030]**\n",
    "\n",
    "**`Dr Amin Karami, UEL Docklands Campus, March 2022`**\n",
    "\n",
    "`E: a.karami@uel.ac.uk`\n",
    "\n",
    "`W: www.aminkarami.com`\n",
    "\n",
    "---\n",
    "\n",
    "**countByValueAndWindow(windowLength, slideInterval, [numTasks])**:\tWhen called on a DStream of (K, V) pairs, returns a new DStream of (K, Long) pairs where the value of each key is its frequency within a sliding window. Like in `reduceByKeyAndWindow`, the number of reduce tasks is configurable through an optional argument."
   ]
  },
  {
   "cell_type": "code",
   "execution_count": null,
   "metadata": {
    "id": "eXkSKXYhms_8"
   },
   "outputs": [],
   "source": [
    "# Load Spark engine\n",
    "import findspark\n",
    "findspark.init()"
   ]
  },
  {
   "cell_type": "code",
   "execution_count": null,
   "metadata": {
    "id": "QLAnHqv8ms_-"
   },
   "outputs": [],
   "source": [
    "from pyspark import SparkConf, SparkContext\n",
    "from pyspark.streaming import StreamingContext"
   ]
  },
  {
   "cell_type": "code",
   "execution_count": null,
   "metadata": {
    "id": "z_C8FaZ3ms_-"
   },
   "outputs": [],
   "source": [
    "conf = SparkConf().setAppName(\"CountByValueAndWindow_example\")\n",
    "conf.set(\"spark.executor.memory\", \"1g\")\n",
    "conf.set(\"spark.driver.memory\", \"1g\")\n",
    "conf.set(\"spark.cores.max\", \"2\")\n",
    "\n",
    "# compile all configuration\n",
    "sc = SparkContext(conf=conf)\n",
    "\n",
    "sc.setLogLevel(\"ERROR\")\n",
    "ssc = StreamingContext(sc, 1)\n",
    "ssc.checkpoint(\"checkpoint\")"
   ]
  },
  {
   "cell_type": "code",
   "execution_count": null,
   "metadata": {
    "id": "xpUm9zRums__"
   },
   "outputs": [],
   "source": [
    "lines = ssc.socketTextStream(\"localhost\", 7000)\n",
    "# open cmd and type: nc -lk 7000"
   ]
  },
  {
   "cell_type": "code",
   "execution_count": null,
   "metadata": {
    "id": "CniRaZyJms__"
   },
   "outputs": [],
   "source": [
    "words = lines.flatMap(lambda line: line.split(\" \"))\n",
    "words.countByValueAndWindow(10, 5).pprint()"
   ]
  },
  {
   "cell_type": "code",
   "execution_count": null,
   "metadata": {
    "id": "xTjVl_Vxms__"
   },
   "outputs": [],
   "source": [
    "ssc.start()"
   ]
  },
  {
   "cell_type": "code",
   "execution_count": null,
   "metadata": {
    "id": "5Ovm_pRZms__",
    "scrolled": true
   },
   "outputs": [],
   "source": [
    "ssc.stop(stopSparkContext=True, stopGraceFully=True)"
   ]
  }
 ],
 "metadata": {
  "colab": {
   "collapsed_sections": [],
   "name": "5- CountByValueAndWindow_stream.ipynb",
   "provenance": [],
   "toc_visible": true
  },
  "kernelspec": {
   "display_name": "Python 3",
   "language": "python",
   "name": "python3"
  },
  "language_info": {
   "codemirror_mode": {
    "name": "ipython",
    "version": 3
   },
   "file_extension": ".py",
   "mimetype": "text/x-python",
   "name": "python",
   "nbconvert_exporter": "python",
   "pygments_lexer": "ipython3",
   "version": "3.8.3"
  }
 },
 "nbformat": 4,
 "nbformat_minor": 1
}
