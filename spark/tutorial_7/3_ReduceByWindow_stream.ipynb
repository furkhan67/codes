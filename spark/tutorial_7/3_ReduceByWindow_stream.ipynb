{
 "cells": [
  {
   "cell_type": "markdown",
   "metadata": {
    "id": "kVkqMuyeliL9"
   },
   "source": [
    "# **Data Streaming using PySpark [CN7030]**\n",
    "\n",
    "**`Dr Amin Karami, UEL Docklands Campus, March 2022`**\n",
    "\n",
    "`E: a.karami@uel.ac.uk`\n",
    "\n",
    "`W: www.aminkarami.com`\n",
    "\n",
    "---\n",
    "\n",
    "**reduceByWindow(func, windowLength, slideInterval)**:\tReturn a new single-element stream, created by aggregating elements in the stream over a sliding interval using func. The function should be associative and commutative so that it can be computed correctly in parallel."
   ]
  },
  {
   "cell_type": "code",
   "execution_count": 1,
   "metadata": {
    "id": "Su6mPkZWleMO"
   },
   "outputs": [],
   "source": [
    "# Load Spark engine\n",
    "#!pip3 install pyspark\n",
    "import findspark\n",
    "findspark.init()"
   ]
  },
  {
   "cell_type": "code",
   "execution_count": 1,
   "metadata": {
    "id": "t61IqgobleMP"
   },
   "outputs": [],
   "source": [
    "from pyspark import SparkConf, SparkContext\n",
    "from pyspark.streaming import StreamingContext"
   ]
  },
  {
   "cell_type": "code",
   "execution_count": 2,
   "metadata": {
    "id": "gVZoVqprleMQ"
   },
   "outputs": [
    {
     "name": "stderr",
     "output_type": "stream",
     "text": [
      "22/03/22 11:10:14 WARN Utils: Your hostname, Predator-G3572 resolves to a loopback address: 127.0.1.1; using 172.23.83.205 instead (on interface eth0)\n",
      "22/03/22 11:10:14 WARN Utils: Set SPARK_LOCAL_IP if you need to bind to another address\n",
      "Using Spark's default log4j profile: org/apache/spark/log4j-defaults.properties\n",
      "Setting default log level to \"WARN\".\n",
      "To adjust logging level use sc.setLogLevel(newLevel). For SparkR, use setLogLevel(newLevel).\n",
      "22/03/22 11:10:16 WARN NativeCodeLoader: Unable to load native-hadoop library for your platform... using builtin-java classes where applicable\n",
      "22/03/22 11:10:16 WARN Utils: Service 'SparkUI' could not bind on port 4040. Attempting port 4041.\n",
      "22/03/22 11:10:16 WARN Utils: Service 'SparkUI' could not bind on port 4041. Attempting port 4042.\n"
     ]
    }
   ],
   "source": [
    "sc = SparkContext(master=\"local[*]\", appName=\"ReduceByWindow_example\")\n",
    "\n",
    "# Control log Level, including ALL, DEBUG, ERROR, FATAL, INFO, OFF, TRACE, WARN\n",
    "sc.setLogLevel(\"ERROR\")\n",
    "\n",
    "ssc = StreamingContext(sc, 1)\n",
    "ssc.checkpoint(\"checkpoint\")"
   ]
  },
  {
   "cell_type": "code",
   "execution_count": null,
   "metadata": {
    "id": "oxPm30KWleMQ"
   },
   "outputs": [],
   "source": [
    "lines = ssc.socketTextStream(\"localhost\", 7000)\n",
    "# open cmd and type: nc -lk 7000"
   ]
  },
  {
   "cell_type": "code",
   "execution_count": null,
   "metadata": {
    "id": "0iesUa_NleMR"
   },
   "outputs": [],
   "source": [
    "import statistics as st\n",
    "\n",
    "def mean_calc(x,y):\n",
    "    return (float(x)+float(y)) / 2"
   ]
  },
  {
   "cell_type": "code",
   "execution_count": null,
   "metadata": {
    "id": "UHIZLRBaleMR"
   },
   "outputs": [],
   "source": [
    "numbers = lines.flatMap(lambda line: line.split(\" \"))\n",
    "#invReduceFunc = ''\n",
    "numbers.reduceByWindow(mean_calc, '', windowDuration = 10, slideDuration = 5).pprint()"
   ]
  },
  {
   "cell_type": "code",
   "execution_count": null,
   "metadata": {
    "id": "oZqdxiBvleMR"
   },
   "outputs": [],
   "source": [
    "ssc.start()"
   ]
  },
  {
   "cell_type": "code",
   "execution_count": null,
   "metadata": {
    "id": "FpdEiJnTleMR",
    "scrolled": true
   },
   "outputs": [],
   "source": [
    "ssc.stop(stopSparkContext=True, stopGraceFully=True)"
   ]
  }
 ],
 "metadata": {
  "colab": {
   "collapsed_sections": [],
   "name": "3_ReduceByWindow_stream.ipynb",
   "provenance": [],
   "toc_visible": true
  },
  "kernelspec": {
   "display_name": "Python 3 (ipykernel)",
   "language": "python",
   "name": "python3"
  },
  "language_info": {
   "codemirror_mode": {
    "name": "ipython",
    "version": 3
   },
   "file_extension": ".py",
   "mimetype": "text/x-python",
   "name": "python",
   "nbconvert_exporter": "python",
   "pygments_lexer": "ipython3",
   "version": "3.8.10"
  }
 },
 "nbformat": 4,
 "nbformat_minor": 1
}
