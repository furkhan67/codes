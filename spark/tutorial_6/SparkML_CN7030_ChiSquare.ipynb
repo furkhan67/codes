{
  "nbformat": 4,
  "nbformat_minor": 0,
  "metadata": {
    "colab": {
      "name": "SparkML_CN7030_ChiSquare.ipynb",
      "provenance": [],
      "collapsed_sections": [],
      "toc_visible": true
    },
    "kernelspec": {
      "name": "python3",
      "display_name": "Python 3"
    }
  },
  "cells": [
    {
      "cell_type": "code",
      "metadata": {
        "id": "1rs8wnLbT7AR"
      },
      "source": [
        ""
      ],
      "execution_count": null,
      "outputs": []
    },
    {
      "cell_type": "code",
      "metadata": {
        "id": "X7yXAh0TfOWP",
        "colab": {
          "base_uri": "https://localhost:8080/"
        },
        "outputId": "75db9641-27cf-4cf7-e88f-ca9b38c468d4"
      },
      "source": [
        "# innstall java\n",
        "!apt-get install openjdk-8-jdk-headless -qq > /dev/null\n",
        "\n",
        "# install spark (change the version number if needed)\n",
        "!wget -q https://archive.apache.org/dist/spark/spark-3.0.0/spark-3.0.0-bin-hadoop3.2.tgz\n",
        "\n",
        "# unzip the spark file to the current folder\n",
        "!tar xf spark-3.0.0-bin-hadoop3.2.tgz\n",
        "\n",
        "# set your spark folder to your system path environment. \n",
        "import os\n",
        "os.environ[\"JAVA_HOME\"] = \"/usr/lib/jvm/java-8-openjdk-amd64\"\n",
        "os.environ[\"SPARK_HOME\"] = \"/content/spark-3.0.0-bin-hadoop3.2\"\n",
        "\n",
        "!pip install findspark\n",
        "\n",
        "import findspark\n",
        "findspark.init()\n",
        "\n",
        "from pyspark.sql import SparkSession\n",
        "spark = SparkSession.builder.master(\"local[*]\").getOrCreate()\n",
        "#spark = SparkSession.builder.master(\"local[4]\")  # this creates spark session to  run locally, the braket[] means number of cores \n",
        "\n"
      ],
      "execution_count": null,
      "outputs": [
        {
          "output_type": "stream",
          "text": [
            "Collecting findspark\n",
            "  Downloading https://files.pythonhosted.org/packages/fc/2d/2e39f9a023479ea798eed4351cd66f163ce61e00c717e03c37109f00c0f2/findspark-1.4.2-py2.py3-none-any.whl\n",
            "Installing collected packages: findspark\n",
            "Successfully installed findspark-1.4.2\n"
          ],
          "name": "stdout"
        }
      ]
    },
    {
      "cell_type": "code",
      "metadata": {
        "id": "we-2grq7Z2-d"
      },
      "source": [
        ""
      ],
      "execution_count": null,
      "outputs": []
    },
    {
      "cell_type": "code",
      "metadata": {
        "id": "5GdivURtkbSA"
      },
      "source": [
        "from pyspark.sql import SparkSession\n",
        "\n",
        "spark = SparkSession \\\n",
        "    .builder \\\n",
        "    .appName(\"Python Spark ML basic example\") \\\n",
        "    .config(\"spark.some.config.option\", \"some-value\") \\\n",
        "    .getOrCreate()"
      ],
      "execution_count": null,
      "outputs": []
    },
    {
      "cell_type": "code",
      "metadata": {
        "id": "0nSL2-QDgX24",
        "colab": {
          "base_uri": "https://localhost:8080/"
        },
        "outputId": "fdf2af60-9478-4cc1-f2fc-0283f72ff073"
      },
      "source": [
        "from google.colab import drive\n",
        "drive.mount('/content/drive')"
      ],
      "execution_count": null,
      "outputs": [
        {
          "output_type": "stream",
          "text": [
            "Mounted at /content/drive\n"
          ],
          "name": "stdout"
        }
      ]
    },
    {
      "cell_type": "code",
      "metadata": {
        "id": "12hdmr7igacO"
      },
      "source": [
        ""
      ],
      "execution_count": null,
      "outputs": []
    },
    {
      "cell_type": "code",
      "metadata": {
        "id": "Zcd5Pr7xtijh"
      },
      "source": [
        "#raw_data = spark.read.format(\"csv\").option(\"header\",\"true\").option(\"inferSchema\", \"true\").load(r\".\\\\diabetes.csv\")\n",
        "dataset = spark.read.csv('drive/My Drive/Colab Notebooks/Files/diabetes.csv',inferSchema=True, header =True)"
      ],
      "execution_count": null,
      "outputs": []
    },
    {
      "cell_type": "code",
      "metadata": {
        "id": "gTTxx25dhSnN",
        "colab": {
          "base_uri": "https://localhost:8080/"
        },
        "outputId": "bdc83790-bc1b-4121-e9e4-dfa37c1d088a"
      },
      "source": [
        "dataset.columns"
      ],
      "execution_count": null,
      "outputs": [
        {
          "output_type": "execute_result",
          "data": {
            "text/plain": [
              "['Pregnancies',\n",
              " 'Glucose',\n",
              " 'BloodPressure',\n",
              " 'SkinThickness',\n",
              " 'Insulin',\n",
              " 'BMI',\n",
              " 'DiabetesPedigreeFunction',\n",
              " 'Age',\n",
              " 'Outcome']"
            ]
          },
          "metadata": {
            "tags": []
          },
          "execution_count": 5
        }
      ]
    },
    {
      "cell_type": "code",
      "metadata": {
        "id": "MwHcIKQXhW-H",
        "colab": {
          "base_uri": "https://localhost:8080/"
        },
        "outputId": "00e0aaa6-5f9e-4379-ea5d-7bd6ebad23a0"
      },
      "source": [
        "dataset.describe().select(\"Summary\",\"Pregnancies\",\"Glucose\",\"BloodPressure\").show()"
      ],
      "execution_count": null,
      "outputs": [
        {
          "output_type": "stream",
          "text": [
            "+-------+------------------+-----------------+------------------+\n",
            "|Summary|       Pregnancies|          Glucose|     BloodPressure|\n",
            "+-------+------------------+-----------------+------------------+\n",
            "|  count|               768|              768|               768|\n",
            "|   mean|3.8450520833333335|     120.89453125|       69.10546875|\n",
            "| stddev|  3.36957806269887|31.97261819513622|19.355807170644777|\n",
            "|    min|                 0|                0|                 0|\n",
            "|    max|                17|              199|               122|\n",
            "+-------+------------------+-----------------+------------------+\n",
            "\n"
          ],
          "name": "stdout"
        }
      ]
    },
    {
      "cell_type": "code",
      "metadata": {
        "id": "EQvTNvjviIC1",
        "colab": {
          "base_uri": "https://localhost:8080/"
        },
        "outputId": "791b8eea-8436-4d40-c339-10fd42b3a194"
      },
      "source": [
        "dataset.describe().select(\"Summary\",\"SkinThickness\",\"Insulin\").show()"
      ],
      "execution_count": null,
      "outputs": [
        {
          "output_type": "stream",
          "text": [
            "+-------+------------------+------------------+\n",
            "|Summary|     SkinThickness|           Insulin|\n",
            "+-------+------------------+------------------+\n",
            "|  count|               768|               768|\n",
            "|   mean|20.536458333333332| 79.79947916666667|\n",
            "| stddev|15.952217567727642|115.24400235133803|\n",
            "|    min|                 0|                 0|\n",
            "|    max|                99|               846|\n",
            "+-------+------------------+------------------+\n",
            "\n"
          ],
          "name": "stdout"
        }
      ]
    },
    {
      "cell_type": "code",
      "metadata": {
        "id": "hiuAkYhgiUfU",
        "colab": {
          "base_uri": "https://localhost:8080/"
        },
        "outputId": "3abc1c54-2ab8-4433-97e4-7ac3a49e6902"
      },
      "source": [
        "dataset.describe().select(\"Summary\",\"BMI\",\"DiabetesPedigreeFunction\",\"Age\").show()"
      ],
      "execution_count": null,
      "outputs": [
        {
          "output_type": "stream",
          "text": [
            "+-------+------------------+------------------------+------------------+\n",
            "|Summary|               BMI|DiabetesPedigreeFunction|               Age|\n",
            "+-------+------------------+------------------------+------------------+\n",
            "|  count|               768|                     768|               768|\n",
            "|   mean|31.992578124999977|      0.4718763020833327|33.240885416666664|\n",
            "| stddev| 7.884160320375441|       0.331328595012775|11.760231540678689|\n",
            "|    min|               0.0|                   0.078|                21|\n",
            "|    max|              67.1|                    2.42|                81|\n",
            "+-------+------------------+------------------------+------------------+\n",
            "\n"
          ],
          "name": "stdout"
        }
      ]
    },
    {
      "cell_type": "code",
      "metadata": {
        "id": "GVeY-MLlilAn",
        "colab": {
          "base_uri": "https://localhost:8080/"
        },
        "outputId": "130b4b35-390f-466a-e3d1-01c00aadfa83"
      },
      "source": [
        "# replace min value of zeros with Nan as data cleaning processs\n",
        "import numpy as np\n",
        "from pyspark.sql.functions import when\n",
        "dataset=dataset.withColumn(\"Glucose\",when(dataset.Glucose==0,np.nan).otherwise (dataset.Glucose))\n",
        "dataset=dataset.withColumn(\"BloodPressure\",when(dataset.BloodPressure==0,np.nan).otherwise(dataset.BloodPressure))\n",
        "dataset=dataset.withColumn(\"SkinThickness\",when(dataset.SkinThickness==0,np.nan).otherwise(dataset.SkinThickness))\n",
        "dataset=dataset.withColumn(\"BMI\",when(dataset.BMI==0,np.nan).otherwise(dataset.BMI))\n",
        "dataset=dataset.withColumn(\"Insulin\",when(dataset.Insulin==0,np.nan).otherwise(dataset.Insulin))\n",
        "dataset.select(\"Insulin\",\"Glucose\",\"BloodPressure\",\"SkinThickness\",\"BMI\").show(5)\n"
      ],
      "execution_count": null,
      "outputs": [
        {
          "output_type": "stream",
          "text": [
            "+-------+-------+-------------+-------------+----+\n",
            "|Insulin|Glucose|BloodPressure|SkinThickness| BMI|\n",
            "+-------+-------+-------------+-------------+----+\n",
            "|    NaN|  148.0|         72.0|         35.0|33.6|\n",
            "|    NaN|   85.0|         66.0|         29.0|26.6|\n",
            "|    NaN|  183.0|         64.0|          NaN|23.3|\n",
            "|   94.0|   89.0|         66.0|         23.0|28.1|\n",
            "|  168.0|  137.0|         40.0|         35.0|43.1|\n",
            "+-------+-------+-------------+-------------+----+\n",
            "only showing top 5 rows\n",
            "\n"
          ],
          "name": "stdout"
        }
      ]
    },
    {
      "cell_type": "code",
      "metadata": {
        "id": "c6-7RX2lkpM4",
        "colab": {
          "base_uri": "https://localhost:8080/"
        },
        "outputId": "777e1ac5-bc5e-4175-eb39-5e5062bdc076"
      },
      "source": [
        "#impute\n",
        "from pyspark.ml.feature import Imputer\n",
        "imputer=Imputer(inputCols=[\"Glucose\",\"BloodPressure\",\"SkinThickness\",\"BMI\",\"Insulin\"],outputCols=[\"Glucose\",\"BloodPressure\",\"SkinThickness\",\"BMI\",\"Insulin\"])\n",
        "model=imputer.fit(dataset)\n",
        "dataset=model.transform(dataset)\n",
        "dataset.show(5)"
      ],
      "execution_count": null,
      "outputs": [
        {
          "output_type": "stream",
          "text": [
            "+-----------+-------+-------------+------------------+-----------------+----+------------------------+---+-------+\n",
            "|Pregnancies|Glucose|BloodPressure|     SkinThickness|          Insulin| BMI|DiabetesPedigreeFunction|Age|Outcome|\n",
            "+-----------+-------+-------------+------------------+-----------------+----+------------------------+---+-------+\n",
            "|          6|  148.0|         72.0|              35.0|155.5482233502538|33.6|                   0.627| 50|      1|\n",
            "|          1|   85.0|         66.0|              29.0|155.5482233502538|26.6|                   0.351| 31|      0|\n",
            "|          8|  183.0|         64.0|29.153419593345657|155.5482233502538|23.3|                   0.672| 32|      1|\n",
            "|          1|   89.0|         66.0|              23.0|             94.0|28.1|                   0.167| 21|      0|\n",
            "|          0|  137.0|         40.0|              35.0|            168.0|43.1|                   2.288| 33|      1|\n",
            "+-----------+-------+-------------+------------------+-----------------+----+------------------------+---+-------+\n",
            "only showing top 5 rows\n",
            "\n"
          ],
          "name": "stdout"
        }
      ]
    },
    {
      "cell_type": "code",
      "metadata": {
        "id": "HDiAdXE_oWV2",
        "colab": {
          "base_uri": "https://localhost:8080/"
        },
        "outputId": "06595478-ae2d-4e3e-d184-030c549d05f9"
      },
      "source": [
        "#us combine all the features in one single feature vector.\n",
        "cols=dataset.columns\n",
        "cols.remove(\"Outcome\")\n",
        "# Let us import the vector assembler\n",
        "from pyspark.ml.feature import VectorAssembler\n",
        "assembler = VectorAssembler(inputCols=cols,outputCol=\"features\")\n",
        "# Now let us use the transform method to transform our dataset\n",
        "dataset=assembler.transform(dataset)\n",
        "dataset.select(\"features\").show(truncate=False)"
      ],
      "execution_count": null,
      "outputs": [
        {
          "output_type": "stream",
          "text": [
            "+-----------------------------------------------------------------------------------+\n",
            "|features                                                                           |\n",
            "+-----------------------------------------------------------------------------------+\n",
            "|[6.0,148.0,72.0,35.0,155.5482233502538,33.6,0.627,50.0]                            |\n",
            "|[1.0,85.0,66.0,29.0,155.5482233502538,26.6,0.351,31.0]                             |\n",
            "|[8.0,183.0,64.0,29.153419593345657,155.5482233502538,23.3,0.672,32.0]              |\n",
            "|[1.0,89.0,66.0,23.0,94.0,28.1,0.167,21.0]                                          |\n",
            "|[0.0,137.0,40.0,35.0,168.0,43.1,2.288,33.0]                                        |\n",
            "|[5.0,116.0,74.0,29.153419593345657,155.5482233502538,25.6,0.201,30.0]              |\n",
            "|[3.0,78.0,50.0,32.0,88.0,31.0,0.248,26.0]                                          |\n",
            "|[10.0,115.0,72.40518417462484,29.153419593345657,155.5482233502538,35.3,0.134,29.0]|\n",
            "|[2.0,197.0,70.0,45.0,543.0,30.5,0.158,53.0]                                        |\n",
            "|[8.0,125.0,96.0,29.153419593345657,155.5482233502538,32.45746367239099,0.232,54.0] |\n",
            "|[4.0,110.0,92.0,29.153419593345657,155.5482233502538,37.6,0.191,30.0]              |\n",
            "|[10.0,168.0,74.0,29.153419593345657,155.5482233502538,38.0,0.537,34.0]             |\n",
            "|[10.0,139.0,80.0,29.153419593345657,155.5482233502538,27.1,1.441,57.0]             |\n",
            "|[1.0,189.0,60.0,23.0,846.0,30.1,0.398,59.0]                                        |\n",
            "|[5.0,166.0,72.0,19.0,175.0,25.8,0.587,51.0]                                        |\n",
            "|[7.0,100.0,72.40518417462484,29.153419593345657,155.5482233502538,30.0,0.484,32.0] |\n",
            "|[0.0,118.0,84.0,47.0,230.0,45.8,0.551,31.0]                                        |\n",
            "|[7.0,107.0,74.0,29.153419593345657,155.5482233502538,29.6,0.254,31.0]              |\n",
            "|[1.0,103.0,30.0,38.0,83.0,43.3,0.183,33.0]                                         |\n",
            "|[1.0,115.0,70.0,30.0,96.0,34.6,0.529,32.0]                                         |\n",
            "+-----------------------------------------------------------------------------------+\n",
            "only showing top 20 rows\n",
            "\n"
          ],
          "name": "stdout"
        }
      ]
    },
    {
      "cell_type": "code",
      "metadata": {
        "id": "qysbmrFxptzH",
        "colab": {
          "base_uri": "https://localhost:8080/"
        },
        "outputId": "bf63412f-5b7c-4005-8870-1d8050f2cd7f"
      },
      "source": [
        "#Standard Sclarizer\n",
        "from pyspark.ml.feature import StandardScaler\n",
        "standardscaler=StandardScaler().setInputCol(\"features\").setOutputCol(\"Scaled_features\")\n",
        "dataset=standardscaler.fit(dataset).transform(dataset)\n",
        "dataset.select(\"features\",\"Scaled_features\").show(5)"
      ],
      "execution_count": null,
      "outputs": [
        {
          "output_type": "stream",
          "text": [
            "+--------------------+--------------------+\n",
            "|            features|     Scaled_features|\n",
            "+--------------------+--------------------+\n",
            "|[6.0,148.0,72.0,3...|[1.78063837321943...|\n",
            "|[1.0,85.0,66.0,29...|[0.29677306220323...|\n",
            "|[8.0,183.0,64.0,2...|[2.37418449762590...|\n",
            "|[1.0,89.0,66.0,23...|[0.29677306220323...|\n",
            "|[0.0,137.0,40.0,3...|[0.0,4.5012560836...|\n",
            "+--------------------+--------------------+\n",
            "only showing top 5 rows\n",
            "\n"
          ],
          "name": "stdout"
        }
      ]
    },
    {
      "cell_type": "code",
      "metadata": {
        "id": "u85-frfNqk2i"
      },
      "source": [
        "#Train, test split\n",
        "train, test = dataset.randomSplit([0.8, 0.2], seed=12345)"
      ],
      "execution_count": null,
      "outputs": []
    },
    {
      "cell_type": "code",
      "metadata": {
        "id": "Hht_GsnCr2xN",
        "colab": {
          "base_uri": "https://localhost:8080/"
        },
        "outputId": "3b56d536-d018-431a-b6d5-485f49abdbb6"
      },
      "source": [
        "#Feature selection\n",
        "# Feature selection using chisquareSelector\n",
        "from pyspark.ml.feature import ChiSqSelector\n",
        "#css = ChiSqSelector(featuresCol='Scaled_features',outputCol='Aspect1',labelCol='Outcome',fpr=0.03) # whose p-value is lower than some threshold\n",
        "css1 = ChiSqSelector(featuresCol='Scaled_features',outputCol='Aspect1',labelCol='Outcome',numTopFeatures = 1)\n",
        "train=css1.fit(train).transform(train)\n",
        "test=css1.fit(test).transform(test)\n",
        "test.select(\"Aspect1\").show(10,truncate=False)\n",
        "\n",
        "\n",
        "css2 = ChiSqSelector(featuresCol='Scaled_features',outputCol='Aspect2',labelCol='Outcome',numTopFeatures = 2)\n",
        "train=css2.fit(train).transform(train)\n",
        "test=css2.fit(test).transform(test)\n",
        "test.select(\"Aspect2\").show(10,truncate=False)\n",
        "\n",
        "css3 = ChiSqSelector(featuresCol='Scaled_features',outputCol='Aspect3',labelCol='Outcome',numTopFeatures = 3)\n",
        "train=css3.fit(train).transform(train)\n",
        "test=css3.fit(test).transform(test)\n",
        "test.select(\"Aspect3\").show(10,truncate=False)\n",
        "\n",
        "\n",
        "# Imp Arguments\n",
        "# numTopFeatures chooses a fixed number of top features according to a chi-squared test. This is akin to yielding the features with the most predictive power.\n",
        "# percentile is similar to numTopFeatures but chooses a fraction of all features instead of a fixed number.\n",
        "# fpr chooses all features whose p-values are below a threshold, thus controlling the false positive rate of selection.\n",
        "# By default, the selection method is numTopFeatures, with the default number of top features set to 50. The user can choose a selection method using setSelectorType.\n",
        "\n",
        "\n",
        "\n",
        "#####################\n",
        "# Tutorial\n",
        "#####################\n",
        "# Find methods to apply other feature selection algorithms.\n",
        "# FOr example, PCA, SVD, etc\n",
        "# Apply at-least one more algorithm for feature selection apart from Chi^2 algorithm and show results to your tutor \n"
      ],
      "execution_count": null,
      "outputs": [
        {
          "output_type": "stream",
          "text": [
            "+-------+\n",
            "|Aspect1|\n",
            "+-------+\n",
            "|[0.0]  |\n",
            "|[0.0]  |\n",
            "|[0.0]  |\n",
            "|[0.0]  |\n",
            "|[0.0]  |\n",
            "|[0.0]  |\n",
            "|[0.0]  |\n",
            "|[0.0]  |\n",
            "|[0.0]  |\n",
            "|[0.0]  |\n",
            "+-------+\n",
            "only showing top 10 rows\n",
            "\n",
            "+------------------------+\n",
            "|Aspect2                 |\n",
            "+------------------------+\n",
            "|[0.0,2.7598942410664704]|\n",
            "|[0.0,3.3184442660442084]|\n",
            "|[0.0,3.3184442660442084]|\n",
            "|[0.0,3.3513001498664283]|\n",
            "|[0.0,3.449867801333088] |\n",
            "|[0.0,3.712714871910847] |\n",
            "|[0.0,3.8441384071997264]|\n",
            "|[0.0,4.172697245421926] |\n",
            "|[0.0,4.961238457155202] |\n",
            "|[0.0,5.322653179199621] |\n",
            "+------------------------+\n",
            "only showing top 10 rows\n",
            "\n",
            "+------------------------------------------+\n",
            "|Aspect3                                   |\n",
            "+------------------------------------------+\n",
            "|[0.0,2.7598942410664704,1.955743806611537]|\n",
            "|[0.0,3.3184442660442084,1.785679127775751]|\n",
            "|[0.0,3.3184442660442084,1.870711467193644]|\n",
            "|[0.0,3.3513001498664283,1.785679127775751]|\n",
            "|[0.0,3.449867801333088,1.870711467193644] |\n",
            "|[0.0,3.712714871910847,1.785679127775751] |\n",
            "|[0.0,3.8441384071997264,3.741422934387288]|\n",
            "|[0.0,4.172697245421926,1.955743806611537] |\n",
            "|[0.0,4.961238457155202,1.785679127775751] |\n",
            "|[0.0,5.322653179199621,2.210840824865216] |\n",
            "+------------------------------------------+\n",
            "only showing top 10 rows\n",
            "\n"
          ],
          "name": "stdout"
        }
      ]
    },
    {
      "cell_type": "code",
      "metadata": {
        "id": "IzuP7fv2trR4",
        "colab": {
          "base_uri": "https://localhost:8080/"
        },
        "outputId": "05b7f289-c12e-451d-c10c-3c5c8cbdb7e3"
      },
      "source": [
        "#Building a classification model using Logistic Regression (LR)\n",
        "from pyspark.ml.classification import LogisticRegression\n",
        "lr1 = LogisticRegression(labelCol=\"Outcome\", featuresCol=\"Aspect1\",maxIter=10)\n",
        "model1=lr1.fit(train)\n",
        "predict_train1=model1.transform(train)\n",
        "predict_test1=model1.transform(test)\n",
        "predict_test1.select(\"Outcome\",\"prediction\").show(10)\n",
        "\n",
        "\n",
        "lr2 = LogisticRegression(labelCol=\"Outcome\", featuresCol=\"Aspect2\",maxIter=10)\n",
        "model2=lr2.fit(train)\n",
        "predict_train2=model2.transform(train)\n",
        "predict_test2=model2.transform(test)\n",
        "predict_test2.select(\"Outcome\",\"prediction\").show(10)\n",
        "\n",
        "lr3 = LogisticRegression(labelCol=\"Outcome\", featuresCol=\"Aspect3\",maxIter=10)\n",
        "model3=lr.fit(train)\n",
        "predict_train3=model3.transform(train)\n",
        "predict_test3=model3.transform(test)\n",
        "predict_test3.select(\"Outcome\",\"prediction\").show(10)"
      ],
      "execution_count": null,
      "outputs": [
        {
          "output_type": "stream",
          "text": [
            "+-------+----------+\n",
            "|Outcome|prediction|\n",
            "+-------+----------+\n",
            "|      0|       0.0|\n",
            "|      0|       0.0|\n",
            "|      0|       0.0|\n",
            "|      0|       0.0|\n",
            "|      0|       0.0|\n",
            "|      0|       0.0|\n",
            "|      0|       0.0|\n",
            "|      0|       0.0|\n",
            "|      1|       0.0|\n",
            "|      1|       0.0|\n",
            "+-------+----------+\n",
            "only showing top 10 rows\n",
            "\n",
            "+-------+----------+\n",
            "|Outcome|prediction|\n",
            "+-------+----------+\n",
            "|      0|       0.0|\n",
            "|      0|       0.0|\n",
            "|      0|       0.0|\n",
            "|      0|       0.0|\n",
            "|      0|       0.0|\n",
            "|      0|       0.0|\n",
            "|      0|       0.0|\n",
            "|      0|       0.0|\n",
            "|      1|       0.0|\n",
            "|      1|       0.0|\n",
            "+-------+----------+\n",
            "only showing top 10 rows\n",
            "\n",
            "+-------+----------+\n",
            "|Outcome|prediction|\n",
            "+-------+----------+\n",
            "|      0|       0.0|\n",
            "|      0|       0.0|\n",
            "|      0|       0.0|\n",
            "|      0|       0.0|\n",
            "|      0|       0.0|\n",
            "|      0|       0.0|\n",
            "|      0|       0.0|\n",
            "|      0|       0.0|\n",
            "|      1|       0.0|\n",
            "|      1|       0.0|\n",
            "+-------+----------+\n",
            "only showing top 10 rows\n",
            "\n"
          ],
          "name": "stdout"
        }
      ]
    },
    {
      "cell_type": "code",
      "metadata": {
        "id": "pSelST4WZpDy"
      },
      "source": [
        "trainingSummary1 = model1.summary\n",
        "\n",
        "trainingSummary2 = model2.summary\n",
        "\n",
        "trainingSummary3 = model3.summary\n",
        "\n"
      ],
      "execution_count": null,
      "outputs": []
    },
    {
      "cell_type": "code",
      "metadata": {
        "id": "GXM71K43uaTD",
        "colab": {
          "base_uri": "https://localhost:8080/"
        },
        "outputId": "e1118a22-2b17-4e4c-f3e4-54e59e3f12fb"
      },
      "source": [
        "#Evaluating the model\n",
        "from pyspark.ml.evaluation import BinaryClassificationEvaluator\n",
        "from pyspark.ml.evaluation import BinaryClassificationEvaluator\n",
        "evaluator=BinaryClassificationEvaluator(rawPredictionCol=\"rawPrediction\",labelCol=\"Outcome\")\n",
        "predict_test1.select(\"Outcome\",\"rawPrediction\",\"prediction\",\"probability\").show(5)"
      ],
      "execution_count": null,
      "outputs": [
        {
          "output_type": "stream",
          "text": [
            "+-------+--------------------+----------+--------------------+\n",
            "|Outcome|       rawPrediction|prediction|         probability|\n",
            "+-------+--------------------+----------+--------------------+\n",
            "|      0|[2.16973615977257...|       0.0|[0.89749869717612...|\n",
            "|      0|[2.16973615977257...|       0.0|[0.89749869717612...|\n",
            "|      0|[2.16973615977257...|       0.0|[0.89749869717612...|\n",
            "|      0|[2.16973615977257...|       0.0|[0.89749869717612...|\n",
            "|      0|[2.16973615977257...|       0.0|[0.89749869717612...|\n",
            "+-------+--------------------+----------+--------------------+\n",
            "only showing top 5 rows\n",
            "\n"
          ],
          "name": "stdout"
        }
      ]
    },
    {
      "cell_type": "code",
      "metadata": {
        "id": "Cm4rSt8AwNY5",
        "colab": {
          "base_uri": "https://localhost:8080/",
          "height": 299
        },
        "outputId": "f2bb355c-2a00-4223-8c57-c728ac388806"
      },
      "source": [
        "print(model.summary)\n",
        "import matplotlib.pyplot as plt\n",
        "pr = model1.summary.pr.toPandas()\n",
        "plt.plot(pr['recall'],pr['precision'])\n",
        "plt.ylabel('Precision')\n",
        "plt.xlabel('Recall')\n",
        "plt.show()"
      ],
      "execution_count": null,
      "outputs": [
        {
          "output_type": "stream",
          "text": [
            "<pyspark.ml.classification.BinaryLogisticRegressionTrainingSummary object at 0x7f29a3808410>\n"
          ],
          "name": "stdout"
        },
        {
          "output_type": "display_data",
          "data": {
            "image/png": "[encoded data removed]",
            "text/plain": [
              "<Figure size 432x288 with 1 Axes>"
            ]
          },
          "metadata": {
            "tags": [],
            "needs_background": "light"
          }
        }
      ]
    },
    {
      "cell_type": "code",
      "metadata": {
        "colab": {
          "base_uri": "https://localhost:8080/"
        },
        "id": "3Zmlhq1qc9lC",
        "outputId": "51edd9c8-8649-472e-a2d4-96b2978e9df6"
      },
      "source": [
        "accuracy_model_1 = trainingSummary1.accuracy\n",
        "print('acuracy_model_1 = ', accuracy_model_1)\n",
        "\n",
        "accuracy_model_2 = trainingSummary2.accuracy\n",
        "print('acuracy_model_2 = ', accuracy_model_2)\n",
        "\n",
        "accuracy_model_3 = trainingSummary3.accuracy\n",
        "print('acuracy_model_3 = ', accuracy_model_3)\n",
        "\n"
      ],
      "execution_count": null,
      "outputs": [
        {
          "output_type": "stream",
          "text": [
            "acuracy_model_1 =  0.6570972886762361\n",
            "acuracy_model_1 =  0.6570972886762361\n",
            "acuracy_model_1 =  0.6570972886762361\n"
          ],
          "name": "stdout"
        }
      ]
    },
    {
      "cell_type": "code",
      "metadata": {
        "colab": {
          "base_uri": "https://localhost:8080/",
          "height": 299
        },
        "id": "cZRp0YtJb1AC",
        "outputId": "7b843c61-12f2-48bd-8765-40d1bb1fb4a3"
      },
      "source": [
        "import matplotlib.pyplot as plt\n",
        "plt.style.use('ggplot')\n",
        "\n",
        "x = ['Accuracy Model 1', 'Accuracy Model 2', 'Accuracy Model 2']\n",
        "accuracy = [accuracy_model_1, accuracy_model_2, accuracy_model_3]\n",
        "\n",
        "x_pos = [i for i, _ in enumerate(x)]\n",
        "\n",
        "plt.bar(x_pos, accuracy, color='green')\n",
        "plt.xlabel(\" Models with different features\")\n",
        "plt.ylabel(\"Accuracy\")\n",
        "plt.title(\"Accuracy of the Algorithm under different Features \")\n",
        "\n",
        "plt.xticks(x_pos, x)\n",
        "\n",
        "plt.show()"
      ],
      "execution_count": null,
      "outputs": [
        {
          "output_type": "display_data",
          "data": {
            "image/png": "[encoded data removed]",
            "text/plain": [
              "<Figure size 432x288 with 1 Axes>"
            ]
          },
          "metadata": {
            "tags": []
          }
        }
      ]
    }
  ]
}